{
 "cells": [
  {
   "cell_type": "markdown",
   "metadata": {},
   "source": [
    "# Assignment-3\n",
    "\n",
    "## Problem 1\n",
    "Modify the second program to allow for the sum of reciprocals. For example, when given\n",
    "a list of numbers 1,2,3,4, 5 then the sum would be 1/1 + 1/2 + 1/3 + 1/4 + 1/5 = 2.283.\n",
    "When adding this function, add it locally and use the other sum function and use an inline\n",
    "lambda function that maps x to 1/x. You can assume zero is never in the list."
   ]
  },
  {
   "cell_type": "code",
   "execution_count": 19,
   "metadata": {},
   "outputs": [
    {
     "name": "stdout",
     "output_type": "stream",
     "text": [
      "Sum of numbers in x = 15\n",
      "Product of numbers in x = 120\n",
      "Sum of reciprocal of numbers in x= 2.283333333333333\n"
     ]
    }
   ],
   "source": [
    "def f(*x,**y):\n",
    "    def s1(x):\n",
    "        s=0\n",
    "        if x:\n",
    "            for i in x:\n",
    "                s+=i\n",
    "        return s\n",
    "    \n",
    "    def p1(x):\n",
    "        p=1\n",
    "        if x:\n",
    "            for i in x:\n",
    "                p*=i\n",
    "        return p\n",
    "\n",
    "    \n",
    "    def sum_of_reciprocal(x):\n",
    "        sum=0\n",
    "        if x:\n",
    "            #calling s1 on the list of reciprocal numbers obtained using lambda function\n",
    "            sum=s1(list(map(lambda i:(1/int(i)),x)))\n",
    "        return sum\n",
    "\n",
    "\n",
    "\n",
    "    if y[\"action\"]==\"sum\":\n",
    "        return s1(*x)\n",
    "    elif y[\"action\"]==\"product\":\n",
    "        return p1(*x)\n",
    "    #initialising action for reciprocal sum\n",
    "    elif y[\"action\"]==\"reciprocal sum\":\n",
    "        #*x gives the list of numbers\n",
    "        return sum_of_reciprocal(*x)\n",
    "    else:\n",
    "        return f\"bad argument: {y}\"\n",
    "\n",
    "if __name__ == '__main__':\n",
    "     xlst = [1,2,3,4,5]\n",
    "\n",
    "#      print(\"Sum of numbers in x =\",f(xlst, action = \"sum\"))\n",
    "#      print(\"Product of numbers in x =\",f(xlst, action = \"product\"))\n",
    "     print(\"Sum of reciprocal of numbers in x=\",f(xlst, action = \"reciprocal sum\"))\n"
   ]
  },
  {
   "cell_type": "markdown",
   "metadata": {},
   "source": [
    "## Output:\n",
    "\n",
    "Sum of reciprocal of numbers in x= 2.283333333333333"
   ]
  },
  {
   "cell_type": "markdown",
   "metadata": {},
   "source": [
    "### Execution\n",
    "On executing this program, for list of numbers in x [1,2,3,4,5] reciprocal is [1/1,1/2,1/3,1/4,1/5] We calculate the sum of the reciprocal list.\n"
   ]
  },
  {
   "cell_type": "markdown",
   "metadata": {},
   "source": [
    "## Implementation:\n",
    "\n",
    "The function f takes input (* x and ** y) where * x represents the numbers in the list and ** y is a dictionary which takes key as action of operations such as sum, product, reciprocal sum etc.We define\n",
    "1. function sum_of_reciprocal- sum of reciprocal of numbers in list x\n",
    "\n",
    "__Sum_of_reciprocal(x)__:\n",
    "Input: list of numbers in x\n",
    "Output: sum of reciprocal using inline lambda function\n",
    "\n",
    "The lambda function converts the numbers in the list x to its reciprocal value and stores it as a list using Map.\n",
    "The map function takes the input \n",
    "1. lambda function (x:1/x)\n",
    "2. list x\n",
    "\n",
    "We call the s1()-sum fuction on the list to compute sum of reciprocal numbers and return the sum.\n",
    "\n",
    "**Points to note:**\n",
    "* We have casted the string numbers in list to integers.`(1/int(i))`\n"
   ]
  },
  {
   "cell_type": "markdown",
   "metadata": {},
   "source": [
    "## Problem 2\n",
    "\n",
    "Using how to read in console information in problem 2, modify the first program so that it can be executed from the console using a list of numbers and the operation. You should not modify the original function–simply add script to read in data from the console."
   ]
  },
  {
   "cell_type": "code",
   "execution_count": 27,
   "metadata": {},
   "outputs": [],
   "source": [
    "import argparse\n",
    "\n",
    "\n",
    "def f(*x,**y):\n",
    "    #func to calculate sum of numbers in a list\n",
    "    def s1(x):\n",
    "        s=0\n",
    "        if x:\n",
    "            for i in x:\n",
    "                s+=i\n",
    "        return s\n",
    "    #func to calculate list of numbers in a list\n",
    "    def p1(x):\n",
    "        p=1\n",
    "        if x:\n",
    "            for i in x:\n",
    "                p*=i\n",
    "        return p\n",
    "\n",
    "    if y[\"action\"]==\"sum\":\n",
    "        return s1(*x)\n",
    "    elif y[\"action\"]==\"product\":\n",
    "        return p1(*x)\n",
    "    else:\n",
    "        return f\"bad argument: {y}\"\n",
    "\n",
    "if __name__=='__main__':\n",
    "\n",
    "\n",
    "    #initialise argument parser\n",
    "    parser=argparse.ArgumentParser()\n",
    "    # #add an argument to parse list of numbers\n",
    "    # -lst => argument_option for specifying a list\n",
    "    # nargs => '+' is the Regular expression to accept 1 or more characters of list\n",
    "    # default => [optional] specifies a default Value\n",
    "    # help => display the description if help option is given\n",
    "    parser.add_argument('-lst', nargs='*', default = [],type=int, help=\"List of numbers\")\n",
    "    parser.add_argument('-op' ,default='sum', help=\"sum prod etc\")\n",
    "    args=parser.parse_args()\n",
    "    #args.lst takes the numbers as input for list\n",
    "    A=args.lst\n",
    "    #args.op takes the input for operation\n",
    "    print(\"{} of number in list ={}\".format(args.op,(f(A, action=args.op))))\n"
   ]
  },
  {
   "cell_type": "markdown",
   "metadata": {},
   "source": [
    "### Commandline execution:\n",
    "\n",
    "python3 argparse.py -lst 1 2 3 4 5 -op sum\n",
    "\n",
    "python3 argparse.py -lst 1 2 3 4 5 -op product\n"
   ]
  },
  {
   "cell_type": "markdown",
   "metadata": {},
   "source": [
    "### Output:\n",
    "python3 argparse.py -lst 1 2 3 4 5 -op sum\n",
    "> sum of number in list =15\n",
    "\n",
    "python3 argparse.py -lst 1 2 3 4 5 -op product\n",
    "> product of number in list =120"
   ]
  },
  {
   "cell_type": "markdown",
   "metadata": {},
   "source": [
    "### Execution\n",
    "\n",
    "The program executes by picking the arguments from the commandline.\n",
    "\n",
    "### Implementation\n",
    "\n",
    "We have implemented the functions of argparse module  to get the input for the function from the commandline as arguments.\n",
    "\n",
    "The argpase module allows us to define **options** (eg:lst, op, help) followed by any input if to be given for that option.\n",
    "\n",
    "In the above Problem we need to generate a list of numbers for the function __F()__ to perform some kind of operation on it which is also passed as commandLine argument.\n",
    "\n",
    "`python3 argparse.py -lst 1 2 3 4 5 -op sum`\n",
    "\n",
    "In the above command we see that python3 is followed by  5 arguments:\n",
    "* argparse.py -> filename.py\n",
    "* -lst        -> option for list\n",
    "* 1 2 3 4 5.. -> input of numbers for the list\n",
    "* -op         -> option for operation\n",
    "* sum,[product]-> input for option -op on which operation to perform\n",
    "\n",
    "The argparse module initialises using ArgumentParser().It has option to add arguments that needs to be executed if encountered in the commandLine.We can add multiple arguments and also define the inputs for the options arguments.\n",
    "Finally the args are parsed using parser_args() using which we can obtain the values from the commandline by calling args.[option_name](eg:args.lst) "
   ]
  },
  {
   "cell_type": "markdown",
   "metadata": {},
   "source": [
    "## Problem 3\n",
    "\n",
    "Add multiplication to the Python class overload asterisk.\n"
   ]
  },
  {
   "cell_type": "code",
   "execution_count": 34,
   "metadata": {},
   "outputs": [
    {
     "name": "stdout",
     "output_type": "stream",
     "text": [
      "w= (1-3i)\n",
      "x= (-1+3i)\n",
      "y= (1+3i)\n",
      "z= (-1-3i)\n",
      "product of(x,y,z)using function overloading= (10+30i)\n",
      "Product of x,y,z using operator overlaoding= (10+30i)\n"
     ]
    }
   ],
   "source": [
    "import time\n",
    "\n",
    "class complex_:\n",
    "    def __init__(self, re=0,im=0):\n",
    "        self.re=re\n",
    "        self.im=im\n",
    "        \n",
    "    def get_re(self):\n",
    "        return self.re\n",
    "    \n",
    "    def get_im(self):\n",
    "        return self.im\n",
    "    \n",
    "    def __str__(self):\n",
    "        g=lambda x:\"+\" if x>=0 else \"\"\n",
    "        return f\"({self.re}{g(self.im)}{self.im}i)\" \n",
    "    \n",
    "    def cadd(self, other):\n",
    "        new_re=self.get_re()+other.get_re()\n",
    "        new_im=self.get_im()+other.get_im()\n",
    "        return complex_(new_re,new_im)\n",
    "    \n",
    "    def __add__(self,other):\n",
    "        new_re= self.get_re()+other.get_re()\n",
    "        new_im=self.get_im()+other.get_im()\n",
    "        return complex_(new_re,new_im)\n",
    "    \n",
    "    #  multiplication of complex numbers (a+bi)(c+di)=(ac-bd)+(ad+bc)i\n",
    "        #function definition to calculate product of complex numbers\n",
    "    def cmul(self,other):\n",
    "        new_re = ((self.get_re()*other.get_re())-(self.get_im()*other.get_im()))\n",
    "        new_im = ((self.get_re()*other.get_im())+(self.get_im()*other.get_re()))\n",
    "        return complex_(new_re,new_im)\n",
    "    \n",
    "    #  multiplication of complex numbers (a+bi)(c+di)=(ac-bd)+(ad+bc)i\n",
    "    #  overiding * operator\n",
    "    def __mul__(self,other):\n",
    "        new_re = ((self.get_re()*other.get_re())-(self.get_im()*other.get_im()))\n",
    "        new_im = ((self.get_re()*other.get_im())+(self.get_im()*other.get_re()))\n",
    "        return complex_(new_re,new_im)\n",
    "\n",
    "if __name__=='__main__':\n",
    "#     start_time=time.time()\n",
    "    w = complex_(1,-3)\n",
    "    x = complex_(-1,3)\n",
    "    y = complex_(1,3)\n",
    "    z = complex_(-1,-3)\n",
    "    \n",
    "    print(\"w=\",w)\n",
    "    print(\"x=\",x)\n",
    "    print(\"y=\",y)\n",
    "    print(\"z=\",z)\n",
    "    \n",
    "    #using function overload\n",
    "#     print(\"add(w,x,y,z)=\",w.cadd(x).cadd(y).cadd(z))\n",
    "    print(\"product of(x,y,z)using function overloading=\",x.cmul(y).cmul(z))\n",
    "\n",
    "    #operator overloading\n",
    "#     print(w+z)\n",
    "    print(\"Product of x,y,z using operator overlaoding=\",x*y*z)\n"
   ]
  },
  {
   "cell_type": "markdown",
   "metadata": {},
   "source": [
    "### Output:\n",
    "\n",
    "w= (1-3i)\n",
    "x= (-1+3i)\n",
    "y= (1+3i)\n",
    "z= (-1-3i)\n",
    "\n",
    "product of(x,y,z)using function overloading= (10+30i)\n",
    "\n",
    "Product of x,y,z using operator overlaoding= (10+30i)\n",
    "\n",
    "### Execution:\n",
    "\n",
    "The original program defines how addition of complex numbers is carried out. I have added the code for calculating product of complex numbers.\n",
    "\n",
    "### Implementation:\n",
    "\n",
    "Operator Overloading is the ability of a single operator to perform more than one operation based on the class (type) of operands.\n",
    "\n",
    "Python has inbuilt Magic methods which can be overloaded to perform different actions. In the above program we have overloaded __mul__() predefined function to perform multiplication of complex numbers.Multiplication of complex numbers is different from ordinary multiplication.The formulae for complex number multiplication is :\n",
    "\n",
    "`(a+bi)(c+di) = (ac-bd)+(ad+bc)i`\n",
    "\n",
    "We calculate the Real number and imaginary number multiplication and return it to a str function which will return a string in format of complex numbers.\n"
   ]
  },
  {
   "cell_type": "markdown",
   "metadata": {},
   "source": [
    "## Problem 4\n",
    "\n",
    "Perform an experimental analysis over the three algorithms, average1, average2, average3. In a log-log chart, visualize their running times as a function of the input size."
   ]
  },
  {
   "cell_type": "code",
   "execution_count": 49,
   "metadata": {},
   "outputs": [
    {
     "data": {
      "text/plain": [
       "<matplotlib.legend.Legend at 0x7f14a2f16730>"
      ]
     },
     "execution_count": 49,
     "metadata": {},
     "output_type": "execute_result"
    },
    {
     "data": {
      "image/png": "[encoded data removed]",
      "text/plain": [
       "<Figure size 432x288 with 1 Axes>"
      ]
     },
     "metadata": {
      "needs_background": "light"
     },
     "output_type": "display_data"
    }
   ],
   "source": [
    "from timeit import default_timer\n",
    "import matplotlib.pyplot as plt\n",
    "import random as rn\n",
    "\n",
    "def average1(S):\n",
    "    n = len(S)\n",
    "    my_average = [0]*n\n",
    "    for j in range(n):\n",
    "        total = 0\n",
    "        for i in range(j + 1):\n",
    "            total += S[i]\n",
    "        my_average[j] = total / (j+1)\n",
    "    return my_average\n",
    "\n",
    "def average2(S):\n",
    "    n = len(S)\n",
    "    my_average= [0]*n\n",
    "    for j in range(n):\n",
    "        my_average[j] = sum(S[0:j+1]) / (j+1)\n",
    "    return my_average\n",
    "\n",
    "def average3(S):\n",
    "    n = len(S)\n",
    "    my_average = [0]*n\n",
    "    total = 0\n",
    "    for j in range(n):\n",
    "        total += S[j]\n",
    "        my_average[j] = total / (j+1)\n",
    "    return my_average\n",
    "\n",
    "n=[i for i in range(2,10000,100)]\n",
    "\n",
    "start = time.time()\n",
    "final_time1=[]\n",
    "final_time2=[]\n",
    "final_time3=[]\n",
    "for i in n:\n",
    "#     S = [rn.randint(1,100) for _ in range(i)]\n",
    "    S = list(random.sample(range(0,i),i))\n",
    "#     print(len(S))\n",
    "    start1 = time.time()\n",
    "    avg1 = average1(S)\n",
    "    final_time1.append(time.time()-start1)\n",
    "    start2 = time.time()\n",
    "    avg2 = average2(S)\n",
    "    final_time2.append(time.time()-start2)\n",
    "    start3 = time.time()\n",
    "    avg3 = average3(S)\n",
    "    final_time3.append(time.time()-start3)\n",
    "    \n",
    "# plt.plot(n,final_time1, label = \"average1\")\n",
    "# plt.plot(n,final_time2, label = \"average2\")\n",
    "# print(final_time3)\n",
    "# plt.loglog(n,final_time3, label = \"average3\")\n",
    "# plt.legend()\n",
    "# print(\"alg1 =\",n,final_time1)\n",
    "plt.xlabel(\"Input size\")\n",
    "plt.ylabel(\"Runtime\")\n",
    "plt.loglog(n,final_time1, label = \"average1\")\n",
    "# print(\"alg2 =\",n,final_time2)\n",
    "plt.loglog(n,final_time2, label = \"average2\")\n",
    "# print(\"alg3 =\",n,final_time3)\n",
    "plt.loglog(n,final_time3, label = \"average3\")\n",
    "plt.legend()"
   ]
  },
  {
   "cell_type": "code",
   "execution_count": null,
   "metadata": {},
   "outputs": [],
   "source": [
    "### Output:\n",
    "\n",
    "The graph is the output which gives the runtime of three algorithms - which compute the sum average of list of numbers.\n",
    "\n"
   ]
  },
  {
   "cell_type": "markdown",
   "metadata": {},
   "source": [
    "## Problem 5\n",
    "\n",
    "In this question, you will work with the three algorithms, algorithm1, algorithm2, algorithm3,\n",
    "which check whether a given sequence is unique. Perform an experimental analysis to\n",
    "determine the largest value of input size such that the given algorithm runs in less than 45\n",
    "seconds."
   ]
  },
  {
   "cell_type": "code",
   "execution_count": 30,
   "metadata": {},
   "outputs": [
    {
     "name": "stdout",
     "output_type": "stream",
     "text": [
      "input sizeof 1 15000\n",
      "input sizeof 1 20000\n",
      "input sizeof 1 25000\n",
      "input sizeof 1 30000\n",
      "input sizeof 1 35000\n",
      "input sizeof 1 40000\n",
      "input sizeof 1 45000\n",
      "input sizeof 1 50000\n",
      "algorithm1 run completed\n",
      "===========Algorithm 1===========\n",
      "Algorithm1 with input size =50000, runs in 54.460729360580444 secs\n"
     ]
    },
    {
     "data": {
      "image/png": "[encoded data removed]",
      "text/plain": [
       "<Figure size 432x288 with 1 Axes>"
      ]
     },
     "metadata": {
      "needs_background": "light"
     },
     "output_type": "display_data"
    }
   ],
   "source": [
    "import random\n",
    "import time\n",
    "import sys\n",
    "import matplotlib.pyplot as plt\n",
    "\n",
    "sys.setrecursionlimit(50000)\n",
    "def algorithm1(S):\n",
    "    # print(\"length=\",type(S))\n",
    "    for j in range(len(S)):\n",
    "        for k in range(j+1, len(S)):\n",
    "            if S[j] == S[k]:\n",
    "                return False\n",
    "    return True\n",
    "\n",
    "def algorithm2(S):\n",
    "#S:sequence\n",
    "    S = sorted(S)\n",
    "    for j in range(1, len(S)):\n",
    "        if S[j-1] == S[j]:\n",
    "            return False\n",
    "    return True\n",
    "\n",
    "def algorithm3(S, start, stop):\n",
    "#slice S[start:stop],\n",
    "#S:sequence\n",
    "    if stop - start <= 1: return True\n",
    "    elif not algorithm3(S, start, stop-1): return False\n",
    "    elif not algorithm3(S, start+1, stop): return False\n",
    "    else: return S[start] != S[stop-1]\n",
    "\n",
    "def generate_sequence(input_size):\n",
    "    # input_size=10\n",
    "    input_list=list(random.sample(range(0,input_size),input_size))\n",
    "    # print(\"input_list=\",input_list)\n",
    "    random.shuffle(input_list)\n",
    "    # print(\"shuffled list=\",input_list)\n",
    "    # print(\"length =\",len(input_list))\n",
    "    return input_list\n",
    "\n",
    "def call_algorithm1(step_size):\n",
    "    input_size=10000\n",
    "    input_size_list=[]\n",
    "    total_time_list=[]\n",
    "    while True:\n",
    "        input_list=generate_sequence(input_size)\n",
    "        start_time=time.time()\n",
    "        output=algorithm1(input_list)\n",
    "        end_time=time.time()\n",
    "        input_size_list.append(input_size)\n",
    "        total_time_list.append(end_time-start_time)\n",
    "        if((end_time-start_time)>=45):\n",
    "            break\n",
    "        else:\n",
    "            input_size=input_size+step_size\n",
    "        print(\"input sizeof 1\",input_size)\n",
    "    print(\"algorithm1 run completed\")\n",
    "    plt.title(\"Algorithm 1 - Input size vs Running time\")\n",
    "    plt.xlabel(\"Input size\")\n",
    "    plt.ylabel(\"Running Time\")\n",
    "    plt.plot(input_size_list,total_time_list)\n",
    "    plt.axhline(y=45)\n",
    "    return (input_size,end_time-start_time)\n",
    "\n",
    "def call_algorithm2(step_size):\n",
    "    input_size=1000\n",
    "    input_size_list=[]\n",
    "    total_time_list=[]\n",
    "    while True:\n",
    "        input_list=generate_sequence(input_size)\n",
    "        start_time=time.time()\n",
    "        output=algorithm2(input_list)\n",
    "        end_time=time.time()\n",
    "        input_size_list.append(input_size)\n",
    "        total_time_list.append(end_time-start_time)\n",
    "        if((end_time-start_time)>=45):\n",
    "            break\n",
    "        else:\n",
    "            input_size=input_size+step_size\n",
    "        print(\"input sizeof 2\",input_size)\n",
    "    print(\"algorithm2 run completed\")\n",
    "    plt.title(\"Algorithm 2 - Input size vs Running time\")\n",
    "    plt.xlabel(\"Input size\")\n",
    "    plt.ylabel(\"Running Time\")\n",
    "    plt.plot(input_size_list,total_time_list)\n",
    "    plt.axhline(y=45)\n",
    "    return (input_size,end_time-start_time)\n",
    "\n",
    "def call_algorithm3(step_size):\n",
    "    input_size=10\n",
    "    input_size_list=[]\n",
    "    total_time_list=[]\n",
    "    while True:\n",
    "        input_list=generate_sequence(input_size)\n",
    "        print(\"input_size: {}\".format(input_size))\n",
    "        start_time=time.time()\n",
    "        output=algorithm3(input_list,0,len(input_list))\n",
    "        end_time=time.time()\n",
    "        input_size_list.append(input_size)\n",
    "        total_time_list.append(end_time-start_time)\n",
    "        print(\"input sizeof 3\",input_size,(end_time-start_time))\n",
    "        if((end_time-start_time)>=45):\n",
    "            break\n",
    "        else:\n",
    "            input_size=input_size+step_size\n",
    "    print(\"algorithm3 run completed\")\n",
    "    plt.title(\"Algorithm 3 - Input size vs Running time\")\n",
    "    plt.xlabel(\"Input size\")\n",
    "    plt.ylabel(\"Running Time\")\n",
    "    plt.plot(input_size_list,total_time_list)\n",
    "    plt.axhline(y=45)\n",
    "    return (input_size,end_time-start_time)\n",
    "\n",
    "\n",
    "    step_size1,time1=call_algorithm1(5000)\n",
    "    step_size2,time2=call_algorithm2(10000000)\n",
    "    step_size3,time3=call_algorithm3(2)\n",
    "\n",
    "    print(\"===========Algorithm 1===========\")\n",
    "    print(\"Algorithm1 with input size ={}, runs in {} secs\" .format(step_size1,time1))\n",
    "    print(\"===========Algorithm 2===========\")\n",
    "    print(\"Algorithm2 with input size ={}, runs in {} secs\".format(step_size2,time2))\n",
    "    print(\"===========Algorithm 3===========\")\n",
    "    print(\"Algorithm3 with input size ={}, runs in {} secs\".format(step_size3,time3))\n"
   ]
  },
  {
   "cell_type": "code",
   "execution_count": 31,
   "metadata": {},
   "outputs": [
    {
     "name": "stdout",
     "output_type": "stream",
     "text": [
      "input sizeof 2 10001000\n",
      "input sizeof 2 20001000\n",
      "input sizeof 2 30001000\n",
      "input sizeof 2 40001000\n",
      "input sizeof 2 50001000\n",
      "input sizeof 2 60001000\n",
      "input sizeof 2 70001000\n",
      "input sizeof 2 80001000\n",
      "input sizeof 2 90001000\n",
      "input sizeof 2 100001000\n",
      "input sizeof 2 110001000\n",
      "algorithm2 run completed\n",
      "===========Algorithm 2===========\n",
      "Algorithm2 with input size =110001000, runs in 49.773101568222046 secs\n"
     ]
    },
    {
     "data": {
      "image/png": "[encoded data removed]",
      "text/plain": [
       "<Figure size 432x288 with 1 Axes>"
      ]
     },
     "metadata": {
      "needs_background": "light"
     },
     "output_type": "display_data"
    }
   ],
   "source": [
    "    step_size2,time2=call_algorithm2(10000000)\n",
    "    print(\"===========Algorithm 2===========\")\n",
    "    print(\"Algorithm2 with input size ={}, runs in {} secs\".format(step_size2,time2))    "
   ]
  },
  {
   "cell_type": "code",
   "execution_count": 32,
   "metadata": {},
   "outputs": [
    {
     "name": "stdout",
     "output_type": "stream",
     "text": [
      "input_size: 10\n",
      "input sizeof 3 10 9.489059448242188e-05\n",
      "input_size: 12\n",
      "input sizeof 3 12 0.0005209445953369141\n",
      "input_size: 14\n",
      "input sizeof 3 14 0.002403736114501953\n",
      "input_size: 16\n",
      "input sizeof 3 16 0.008868932723999023\n",
      "input_size: 18\n",
      "input sizeof 3 18 0.02250981330871582\n",
      "input_size: 20\n",
      "input sizeof 3 20 0.08937478065490723\n",
      "input_size: 22\n",
      "input sizeof 3 22 0.36470937728881836\n",
      "input_size: 24\n",
      "input sizeof 3 24 1.4622056484222412\n",
      "input_size: 26\n",
      "input sizeof 3 26 5.9023027420043945\n",
      "input_size: 28\n",
      "input sizeof 3 28 23.801985502243042\n",
      "input_size: 30\n",
      "input sizeof 3 30 93.68721866607666\n",
      "algorithm3 run completed\n",
      "===========Algorithm 3===========\n",
      "Algorithm3 with input size =30, runs in 93.68721866607666 secs\n"
     ]
    },
    {
     "data": {
      "image/png": "[encoded data removed]",
      "text/plain": [
       "<Figure size 432x288 with 1 Axes>"
      ]
     },
     "metadata": {
      "needs_background": "light"
     },
     "output_type": "display_data"
    }
   ],
   "source": [
    "    step_size3,time3=call_algorithm3(2)\n",
    "    print(\"===========Algorithm 3===========\")\n",
    "    print(\"Algorithm3 with input size ={}, runs in {} secs\".format(step_size3,time3))"
   ]
  },
  {
   "cell_type": "markdown",
   "metadata": {},
   "source": [
    "### Output:\n",
    "\n",
    "Input size for Algorithm1: Approximately around 45000\n",
    "Input size for Algorithm2: Approximately around 1.e8\n",
    "Input size for Algorithm3: Approximately around 28\n",
    "\n",
    "### Execution:\n",
    "\n",
    "For the given 3 algorithms we calculate inputsize for a execution time of 45secs. It is compared using\n"
   ]
  }
 ],
 "metadata": {
  "kernelspec": {
   "display_name": "Python 3",
   "language": "python",
   "name": "python3"
  },
  "language_info": {
   "codemirror_mode": {
    "name": "ipython",
    "version": 3
   },
   "file_extension": ".py",
   "mimetype": "text/x-python",
   "name": "python",
   "nbconvert_exporter": "python",
   "pygments_lexer": "ipython3",
   "version": "3.9.7"
  }
 },
 "nbformat": 4,
 "nbformat_minor": 4
}
