{
 "cells": [
  {
   "cell_type": "markdown",
   "metadata": {},
   "source": [
    "# Assignment-3\n",
    "## Problem 1: Variable Arguments\n",
    "\n",
    "Python allows variable arguments to functions which makes coding easier. Assume we have\n",
    "two functions, one that sums a list of numbers and one that finds the product."
   ]
  },
  {
   "cell_type": "code",
   "execution_count": 4,
   "metadata": {},
   "outputs": [],
   "source": [
    "def sumOfNumbers(x):\n",
    "    s=0\n",
    "    if x:\n",
    "        for i in x:\n",
    "            s+=i\n",
    "    return s;"
   ]
  },
  {
   "cell_type": "code",
   "execution_count": 7,
   "metadata": {},
   "outputs": [
    {
     "name": "stdout",
     "output_type": "stream",
     "text": [
      "summ of numbers:  10\n"
     ]
    }
   ],
   "source": [
    "A=[1,2,3,4]\n",
    "print(\"summ of numbers: \",sumOfNumbers(A))"
   ]
  },
  {
   "cell_type": "code",
   "execution_count": 15,
   "metadata": {},
   "outputs": [],
   "source": [
    "def sumOfProduct(x):\n",
    "    p=1\n",
    "    if x:\n",
    "        for i in x:\n",
    "            p*=i\n",
    "    return p\n"
   ]
  },
  {
   "cell_type": "code",
   "execution_count": 16,
   "metadata": {},
   "outputs": [
    {
     "name": "stdout",
     "output_type": "stream",
     "text": [
      "product of numbers:  24\n"
     ]
    }
   ],
   "source": [
    "A=[1,2,3,4]\n",
    "print(\"product of numbers: \",sumOfProduct(A))"
   ]
  },
  {
   "cell_type": "code",
   "execution_count": 23,
   "metadata": {},
   "outputs": [
    {
     "name": "stdout",
     "output_type": "stream",
     "text": [
      "summ of numbers:  10\n",
      "product of numbers:  24\n"
     ]
    }
   ],
   "source": [
    "def sumOfNumbers(x):\n",
    "    s=0\n",
    "    if x:\n",
    "        for i in x:\n",
    "            s+=i\n",
    "    return s;\n",
    "\n",
    "def sumOfProduct(x):\n",
    "    p=1\n",
    "    if x:\n",
    "        for i in x:\n",
    "            p*=i\n",
    "    return p\n",
    "\n",
    "if __name__=='__main__':\n",
    "    A=[1,2,3,4]\n",
    "    print(\"summ of numbers: \",sumOfNumbers(A))\n",
    "    print(\"product of numbers: \",sumOfProduct(A))\n",
    "    \n",
    "    \n"
   ]
  },
  {
   "cell_type": "markdown",
   "metadata": {},
   "source": [
    "In Pythonthis is denoted with * and **.\n",
    "1. Prefixing a single asterisk means the variable will be bound to a list.\n",
    "2. Prefixing a double asterisk means the variable will be a key value into the dictionary named as the bound variable."
   ]
  },
  {
   "cell_type": "code",
   "execution_count": 41,
   "metadata": {},
   "outputs": [
    {
     "name": "stdout",
     "output_type": "stream",
     "text": [
      "10\n",
      "24\n",
      "2.083333333333333\n"
     ]
    }
   ],
   "source": [
    "def Func_sum_prod(*x,**y):\n",
    "    def sum_number(x):\n",
    "        s=0\n",
    "        if x:\n",
    "            for i in x:\n",
    "                s+=i\n",
    "        return s;b\n",
    "    \n",
    "    def sumOfProduct(x):\n",
    "        p=1\n",
    "        if x:\n",
    "            for i in x:\n",
    "                p*=i\n",
    "        return p\n",
    "    def sum_of_reciprocal(x):\n",
    "        s=0\n",
    "        if x:\n",
    "            for i in x:\n",
    "                s=s+(1/i)\n",
    "        return s\n",
    "\n",
    "    if y[\"action\"]==\"sum\":\n",
    "        return sum_number(*x)\n",
    "    elif y[\"action\"]==\"product\":\n",
    "        return sumOfProduct(*x)\n",
    "    elif y[\"action\"]==\"reciprocal\":\n",
    "        return sum_of_reciprocal(*x)\n",
    "    else:\n",
    "        return 0\n",
    "\n",
    "if __name__=='__main__':\n",
    "    A=[1,2,3,4]\n",
    "    print(Func_sum_prod(A, action=\"sum\"))\n",
    "    print(Func_sum_prod(A, action=\"product\"))\n",
    "    print(Func_sum_prod(A, action=\"reciprocal\"))\n",
    "    "
   ]
  },
  {
   "cell_type": "markdown",
   "metadata": {},
   "source": [
    "## Problem 2: Console I/O -argparse module\n",
    "https://docs.python.org/3/howto/argparse.html"
   ]
  },
  {
   "cell_type": "code",
   "execution_count": 45,
   "metadata": {},
   "outputs": [
    {
     "name": "stderr",
     "output_type": "stream",
     "text": [
      "usage: ipykernel_launcher.py [-h] [-lst LST [LST ...]]\n",
      "ipykernel_launcher.py: error: unrecognized arguments: -f /home/keerthanarenu/.local/share/jupyter/runtime/kernel-347b40f7-52a2-410c-93d7-5c122c552c46.json\n"
     ]
    },
    {
     "ename": "SystemExit",
     "evalue": "2",
     "output_type": "error",
     "traceback": [
      "An exception has occurred, use %tb to see the full traceback.\n",
      "\u001b[0;31mSystemExit\u001b[0m\u001b[0;31m:\u001b[0m 2\n"
     ]
    },
    {
     "name": "stderr",
     "output_type": "stream",
     "text": [
      "/usr/lib/python3.9/site-packages/IPython/core/interactiveshell.py:3435: UserWarning: To exit: use 'exit', 'quit', or Ctrl-D.\n",
      "  warn(\"To exit: use 'exit', 'quit', or Ctrl-D.\", stacklevel=1)\n"
     ]
    }
   ],
   "source": [
    "import argparse\n",
    "\n",
    "parser=argparse.ArgumentParser()\n",
    "parser.add_argument('-lst',nargs='+',default=['1'], help=\"List of numbers\")\n",
    "\n",
    "args=parser.parse_args()\n",
    "print(args.lst)"
   ]
  },
  {
   "cell_type": "markdown",
   "metadata": {},
   "source": [
    "## Problem 3: Object-Oriented\n",
    "Python has as a type, complex numbers that use j instead of the standard i.\n",
    "\n",
    ">(1+3j) + (3+4j)=(4+7j)"
   ]
  },
  {
   "cell_type": "markdown",
   "metadata": {},
   "source": [
    "### write complex numbers as a class like Python\n",
    "Python allows you to overload most symbols (+ for instance) which we can overload to make our complex addition similar to what would be expect as a native type."
   ]
  },
  {
   "cell_type": "code",
   "execution_count": 3,
   "metadata": {},
   "outputs": [
    {
     "name": "stdout",
     "output_type": "stream",
     "text": [
      "(-1+3i)\n",
      "(1+3i)\n",
      "(-1-3i)\n",
      "sum= (0+0i)\n"
     ]
    }
   ],
   "source": [
    "class complex_:\n",
    "    def __init__(self, re=0,im=0):\n",
    "        self.re=re\n",
    "        self.im=im\n",
    "        \n",
    "    def get_re(self):\n",
    "        return self.re\n",
    "    \n",
    "    def get_im(self):\n",
    "        return self.im\n",
    "    \n",
    "    def __str__(self):\n",
    "        g=lambda x:\"+\" if x>=0 else \"\"\n",
    "        return f\"({self.re}{g(self.im)}{self.im}i)\" \n",
    "    \n",
    "    def cadd(self, other):\n",
    "        new_re=self.get_re()+other.get_re()\n",
    "        new_im=self.get_im()+other.get_im()\n",
    "        return complex_(new_re,new_im)\n",
    "    \n",
    "    def __add__(self,other):\n",
    "        new_re= self.get_re()+other.get_re()\n",
    "        new_im=self.get_im()+other.get_im()\n",
    "        return complex_(new_re,new_im)\n",
    "    \n",
    "if __name__=='__main__':\n",
    "    \n",
    "    w=complex_(1,-3)\n",
    "    x = complex_(-1,3)\n",
    "    y = complex_(1,3)\n",
    "    z = complex_(-1,-3)\n",
    "    \n",
    "    print(x)\n",
    "    print(y)\n",
    "    print(z)\n",
    "    \n",
    "    \n",
    "    print(\"sum=\",w+x)"
   ]
  }
 ],
 "metadata": {
  "kernelspec": {
   "display_name": "Python 3",
   "language": "python",
   "name": "python3"
  },
  "language_info": {
   "codemirror_mode": {
    "name": "ipython",
    "version": 3
   },
   "file_extension": ".py",
   "mimetype": "text/x-python",
   "name": "python",
   "nbconvert_exporter": "python",
   "pygments_lexer": "ipython3",
   "version": "3.9.7"
  }
 },
 "nbformat": 4,
 "nbformat_minor": 4
}
