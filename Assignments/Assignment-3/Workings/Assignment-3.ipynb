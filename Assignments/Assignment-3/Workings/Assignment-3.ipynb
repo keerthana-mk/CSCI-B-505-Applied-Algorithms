{
 "cells": [
  {
   "cell_type": "markdown",
   "metadata": {},
   "source": [
    "# Assignment-3                                                                       \n",
    "                                                                                       Partner Name:Shruthi Gutta\n",
    "                                                                                          Partner userid:shrgutta\n",
    "\n",
    "                               \"All the work herein is solely mine\"\n",
    "                               \n",
    "                               \n",
    "                               \n",
    "                               \n",
    "## Problem 1\n",
    "Modify the second program to allow for the sum of reciprocals. For example, when given\n",
    "a list of numbers 1,2,3,4, 5 then the sum would be 1/1 + 1/2 + 1/3 + 1/4 + 1/5 = 2.283.\n",
    "When adding this function, add it locally and use the other sum function and use an inline\n",
    "lambda function that maps x to 1/x. You can assume zero is never in the list."
   ]
  },
  {
   "cell_type": "code",
   "execution_count": 19,
   "metadata": {},
   "outputs": [
    {
     "name": "stdout",
     "output_type": "stream",
     "text": [
      "Sum of numbers in x = 15\n",
      "Product of numbers in x = 120\n",
      "Sum of reciprocal of numbers in x= 2.283333333333333\n"
     ]
    }
   ],
   "source": [
    "def f(*x,**y):\n",
    "    def s1(x):\n",
    "        s=0\n",
    "        if x:\n",
    "            for i in x:\n",
    "                s+=i\n",
    "        return s\n",
    "    \n",
    "    def p1(x):\n",
    "        p=1\n",
    "        if x:\n",
    "            for i in x:\n",
    "                p*=i\n",
    "        return p\n",
    "\n",
    "    \n",
    "    def sum_of_reciprocal(x):\n",
    "        sum=0\n",
    "        if x:\n",
    "            #calling s1 on the list of reciprocal numbers obtained using lambda function\n",
    "            sum=s1(list(map(lambda i:(1/int(i)),x)))\n",
    "        return sum\n",
    "\n",
    "\n",
    "\n",
    "    if y[\"action\"]==\"sum\":\n",
    "        return s1(*x)\n",
    "    elif y[\"action\"]==\"product\":\n",
    "        return p1(*x)\n",
    "    #initialising action for reciprocal sum\n",
    "    elif y[\"action\"]==\"reciprocal sum\":\n",
    "        #*x gives the list of numbers\n",
    "        return sum_of_reciprocal(*x)\n",
    "    else:\n",
    "        return f\"bad argument: {y}\"\n",
    "\n",
    "if __name__ == '__main__':\n",
    "     xlst = [1,2,3,4,5]\n",
    "\n",
    "#      print(\"Sum of numbers in x =\",f(xlst, action = \"sum\"))\n",
    "#      print(\"Product of numbers in x =\",f(xlst, action = \"product\"))\n",
    "     print(\"Sum of reciprocal of numbers in x=\",f(xlst, action = \"reciprocal sum\"))\n"
   ]
  },
  {
   "cell_type": "markdown",
   "metadata": {},
   "source": [
    "## Output:\n",
    "\n",
    "Sum of reciprocal of numbers in x= 2.283333333333333"
   ]
  },
  {
   "cell_type": "markdown",
   "metadata": {},
   "source": [
    "### Execution\n",
    "On executing this program, for list of numbers in x [1,2,3,4,5] reciprocal is [1/1,1/2,1/3,1/4,1/5] We calculate the sum of the reciprocal list.\n"
   ]
  },
  {
   "cell_type": "markdown",
   "metadata": {},
   "source": [
    "## Implementation:\n",
    "\n",
    "The function f takes input (* x and ** y) where * x represents the numbers in the list and ** y is a dictionary which takes key as action of operations such as sum, product, reciprocal sum etc.We define\n",
    "1. function sum_of_reciprocal- calculate sum of reciprocal of numbers in list x\n",
    "\n",
    "__Sum_of_reciprocal(x)__:\n",
    "\n",
    "**Input**: list of numbers in x\n",
    "\n",
    "**Output**: sum of reciprocal using inline lambda function\n",
    "\n",
    "The lambda function converts the numbers in the list x to its reciprocal value and stores it as a list using Map.\n",
    "The map function takes the input \n",
    "1. lambda function (x:1/x)\n",
    "2. list x\n",
    "\n",
    "We call the s1()-sum fuction on the list to compute sum of reciprocal numbers and return the sum.\n",
    "\n",
    "**Points to note:**\n",
    "* We have casted the string numbers in list to integers.`(1/int(i))`\n"
   ]
  },
  {
   "cell_type": "markdown",
   "metadata": {},
   "source": [
    "## Problem 2\n",
    "\n",
    "Using how to read in console information in problem 2, modify the first program so that it can be executed from the console using a list of numbers and the operation. You should not modify the original function–simply add script to read in data from the console."
   ]
  },
  {
   "cell_type": "code",
   "execution_count": 27,
   "metadata": {},
   "outputs": [],
   "source": [
    "import argparse\n",
    "\n",
    "\n",
    "def f(*x,**y):\n",
    "    #func to calculate sum of numbers in a list\n",
    "    def s1(x):\n",
    "        s=0\n",
    "        if x:\n",
    "            for i in x:\n",
    "                s+=i\n",
    "        return s\n",
    "    #func to calculate list of numbers in a list\n",
    "    def p1(x):\n",
    "        p=1\n",
    "        if x:\n",
    "            for i in x:\n",
    "                p*=i\n",
    "        return p\n",
    "\n",
    "    if y[\"action\"]==\"sum\":\n",
    "        return s1(*x)\n",
    "    elif y[\"action\"]==\"product\":\n",
    "        return p1(*x)\n",
    "    else:\n",
    "        return f\"bad argument: {y}\"\n",
    "\n",
    "if __name__=='__main__':\n",
    "\n",
    "\n",
    "    #initialise argument parser\n",
    "    parser=argparse.ArgumentParser()\n",
    "    # #add an argument to parse list of numbers\n",
    "    # -lst => argument_option for specifying a list\n",
    "    # nargs => '+' is the Regular expression to accept 1 or more characters of list\n",
    "    # default => [optional] specifies a default Value\n",
    "    # help => display the description if help option is given\n",
    "    parser.add_argument('-lst', nargs='*', default = [],type=int, help=\"List of numbers\")\n",
    "    parser.add_argument('-op' ,default='sum', help=\"sum prod etc\")\n",
    "    args=parser.parse_args()\n",
    "    #args.lst takes the numbers as input for list\n",
    "    A=args.lst\n",
    "    #args.op takes the input for operation\n",
    "    print(\"{} of number in list ={}\".format(args.op,(f(A, action=args.op))))\n"
   ]
  },
  {
   "cell_type": "markdown",
   "metadata": {},
   "source": [
    "### Commandline execution:\n",
    "\n",
    "python3 argparse.py -lst 1 2 3 4 5 -op sum\n",
    "\n",
    "python3 argparse.py -lst 1 2 3 4 5 -op product\n"
   ]
  },
  {
   "cell_type": "markdown",
   "metadata": {},
   "source": [
    "### Output:\n",
    "python3 argparse.py -lst 1 2 3 4 5 -op sum\n",
    "> sum of number in list =15\n",
    "\n",
    "python3 argparse.py -lst 1 2 3 4 5 -op product\n",
    "> product of number in list =120"
   ]
  },
  {
   "cell_type": "markdown",
   "metadata": {},
   "source": [
    "### Output Screenshots\n",
    "\n",
    "1. \n",
    "\n",
    "<img src=\"data:image/png;base64,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\" />\n",
    "\n",
    "2. Bad Arguments:\n",
    "\n",
    "\n",
    "\n",
    "<img src=\"data:image/png;base64,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\" />\n",
    "\n"
   ]
  },
  {
   "cell_type": "markdown",
   "metadata": {},
   "source": [
    "### Execution\n",
    "\n",
    "The program executes by picking the arguments from the commandline.\n",
    "\n",
    "### Implementation\n",
    "\n",
    "We have implemented the functions of argparse module  to get the input for the function from the commandline as arguments.\n",
    "\n",
    "The argpase module allows us to define **options** (eg:lst, op, help) followed by any input if to be given for that option.\n",
    "\n",
    "In the above Problem we need to generate a list of numbers for the function __F()__ to perform some kind of operation on it which is also passed as commandLine argument.\n",
    "\n",
    "`python3 argparse.py -lst 1 2 3 4 5 -op sum`\n",
    "\n",
    "In the above command we see that python3 is followed by  5 arguments:\n",
    "* argparse.py -> filename.py\n",
    "* -lst        -> option for list\n",
    "* 1 2 3 4 5.. -> input of numbers for the list\n",
    "* -op         -> option for operation\n",
    "* sum,[product]-> input for option -op on which operation to perform\n",
    "\n",
    "The argparse module initialises using ArgumentParser().It has option to add arguments that needs to be executed if encountered in the commandLine.We can add multiple arguments and also define the inputs for the options arguments.\n",
    "Finally the args are parsed using parser_args() using which we can obtain the values from the commandline by calling args.[option_name](eg:args.lst) "
   ]
  },
  {
   "cell_type": "markdown",
   "metadata": {},
   "source": [
    "## Problem 3\n",
    "\n",
    "Add multiplication to the Python class overload asterisk.\n"
   ]
  },
  {
   "cell_type": "code",
   "execution_count": 34,
   "metadata": {},
   "outputs": [
    {
     "name": "stdout",
     "output_type": "stream",
     "text": [
      "w= (1-3i)\n",
      "x= (-1+3i)\n",
      "y= (1+3i)\n",
      "z= (-1-3i)\n",
      "product of(x,y,z)using function overloading= (10+30i)\n",
      "Product of x,y,z using operator overlaoding= (10+30i)\n"
     ]
    }
   ],
   "source": [
    "import time\n",
    "\n",
    "class complex_:\n",
    "    def __init__(self, re=0,im=0):\n",
    "        self.re=re\n",
    "        self.im=im\n",
    "        \n",
    "    def get_re(self):\n",
    "        return self.re\n",
    "    \n",
    "    def get_im(self):\n",
    "        return self.im\n",
    "    \n",
    "    def __str__(self):\n",
    "        g=lambda x:\"+\" if x>=0 else \"\"\n",
    "        return f\"({self.re}{g(self.im)}{self.im}i)\" \n",
    "    \n",
    "    def cadd(self, other):\n",
    "        new_re=self.get_re()+other.get_re()\n",
    "        new_im=self.get_im()+other.get_im()\n",
    "        return complex_(new_re,new_im)\n",
    "    \n",
    "    def __add__(self,other):\n",
    "        new_re= self.get_re()+other.get_re()\n",
    "        new_im=self.get_im()+other.get_im()\n",
    "        return complex_(new_re,new_im)\n",
    "    \n",
    "    #  multiplication of complex numbers (a+bi)(c+di)=(ac-bd)+(ad+bc)i\n",
    "        #function definition to calculate product of complex numbers\n",
    "    def cmul(self,other):\n",
    "        new_re = ((self.get_re()*other.get_re())-(self.get_im()*other.get_im()))\n",
    "        new_im = ((self.get_re()*other.get_im())+(self.get_im()*other.get_re()))\n",
    "        return complex_(new_re,new_im)\n",
    "    \n",
    "    #  multiplication of complex numbers (a+bi)(c+di)=(ac-bd)+(ad+bc)i\n",
    "    #  overiding * operator\n",
    "    def __mul__(self,other):\n",
    "        new_re = ((self.get_re()*other.get_re())-(self.get_im()*other.get_im()))\n",
    "        new_im = ((self.get_re()*other.get_im())+(self.get_im()*other.get_re()))\n",
    "        return complex_(new_re,new_im)\n",
    "\n",
    "if __name__=='__main__':\n",
    "#     start_time=time.time()\n",
    "    w = complex_(1,-3)\n",
    "    x = complex_(-1,3)\n",
    "    y = complex_(1,3)\n",
    "    z = complex_(-1,-3)\n",
    "    \n",
    "    print(\"w=\",w)\n",
    "    print(\"x=\",x)\n",
    "    print(\"y=\",y)\n",
    "    print(\"z=\",z)\n",
    "    \n",
    "    #using function overload\n",
    "#     print(\"add(w,x,y,z)=\",w.cadd(x).cadd(y).cadd(z))\n",
    "    print(\"product of(x,y,z)using function overloading=\",x.cmul(y).cmul(z))\n",
    "\n",
    "    #operator overloading\n",
    "#     print(w+z)\n",
    "    print(\"Product of x,y,z using operator overlaoding=\",x*y*z)\n"
   ]
  },
  {
   "cell_type": "markdown",
   "metadata": {},
   "source": [
    "### Output:\n",
    "\n",
    "w= (1-3i)\n",
    "x= (-1+3i)\n",
    "y= (1+3i)\n",
    "z= (-1-3i)\n",
    "\n",
    "product of(x,y,z)using function overloading= (10+30i)\n",
    "\n",
    "Product of x,y,z using operator overlaoding= (10+30i)\n",
    "\n",
    "### Execution:\n",
    "\n",
    "The original program defines how addition of complex numbers is carried out. I have added the code for calculating product of complex numbers.\n",
    "\n",
    "### Implementation:\n",
    "\n",
    "Operator Overloading is the ability of a single operator to perform more than one operation based on the class (type) of operands.\n",
    "\n",
    "Python has inbuilt Magic methods which can be overloaded to perform different actions. In the above program we have overloaded __mul__() predefined function to perform multiplication of complex numbers.Multiplication of complex numbers is different from ordinary multiplication.The formulae for complex number multiplication is :\n",
    "\n",
    "`(a+bi)(c+di) = (ac-bd)+(ad+bc)i`\n",
    "\n",
    "We calculate the Real number and imaginary number multiplication and return it to a str function which will return a string in format of complex numbers.\n"
   ]
  },
  {
   "cell_type": "markdown",
   "metadata": {},
   "source": [
    "## Problem 4\n",
    "\n",
    "Perform an experimental analysis over the three algorithms, average1, average2, average3. In a log-log chart, visualize their running times as a function of the input size."
   ]
  },
  {
   "cell_type": "code",
   "execution_count": 14,
   "metadata": {},
   "outputs": [
    {
     "data": {
      "text/plain": [
       "<matplotlib.legend.Legend at 0x7fbce3a82250>"
      ]
     },
     "execution_count": 14,
     "metadata": {},
     "output_type": "execute_result"
    },
    {
     "data": {
      "image/png": "[encoded data removed]",
      "text/plain": [
       "<Figure size 432x288 with 1 Axes>"
      ]
     },
     "metadata": {
      "needs_background": "light"
     },
     "output_type": "display_data"
    }
   ],
   "source": [
    "import matplotlib.pyplot as plt\n",
    "import random as rn\n",
    "\n",
    "def average1(S):\n",
    "    n = len(S)\n",
    "    my_average = [0]*n\n",
    "    for j in range(n):\n",
    "        total = 0\n",
    "        for i in range(j + 1):\n",
    "            total += S[i]\n",
    "        my_average[j] = total / (j+1)\n",
    "    return my_average\n",
    "\n",
    "def average2(S):\n",
    "    n = len(S)\n",
    "    my_average= [0]*n\n",
    "    for j in range(n):\n",
    "        my_average[j] = sum(S[0:j+1]) / (j+1)\n",
    "    return my_average\n",
    "\n",
    "def average3(S):\n",
    "    n = len(S)\n",
    "    my_average = [0]*n\n",
    "    total = 0\n",
    "    for j in range(n):\n",
    "        total += S[j]\n",
    "        my_average[j] = total / (j+1)\n",
    "    return my_average\n",
    "\n",
    "#Generate ranges from 2 to 10000 with a step size of 100\n",
    "n=[i for i in range(2,10000,100)]\n",
    "\n",
    "\n",
    "final_time1=[]\n",
    "final_time2=[]\n",
    "final_time3=[]\n",
    "for i in n:\n",
    "#     S = [rn.randint(1,100) for _ in range(i)]\n",
    "    S = list(random.sample(range(0,i),i))\n",
    "#     print(len(S))\n",
    "    start1 = time.perf_counter()\n",
    "    avg1 = average1(S)\n",
    "    final_time1.append(time.perf_counter()-start1)\n",
    "    start2 = time.perf_counter()\n",
    "    avg2 = average2(S)\n",
    "    final_time2.append(time.perf_counter()-start2)\n",
    "    start3 = time.perf_counter()\n",
    "    avg3 = average3(S)\n",
    "    final_time3.append(time.perf_counter()-start3)\n",
    "    \n",
    "# plt.plot(n,final_time1, label = \"average1\")\n",
    "# plt.plot(n,final_time2, label = \"average2\")\n",
    "# print(final_time3)\n",
    "# plt.loglog(n,final_time3, label = \"average3\")\n",
    "# plt.legend()\n",
    "# print(\"alg1 =\",n,final_time1)\n",
    "plt.xlabel(\"Input size\")\n",
    "plt.ylabel(\"Runtime\")\n",
    "plt.loglog(n,final_time1, label = \"average1\")\n",
    "# print(\"alg2 =\",n,final_time2)\n",
    "plt.loglog(n,final_time2, label = \"average2\")\n",
    "# print(\"alg3 =\",n,final_time3)\n",
    "plt.loglog(n,final_time3, label = \"average3\")\n",
    "plt.legend()"
   ]
  },
  {
   "cell_type": "markdown",
   "metadata": {},
   "source": [
    "### Output:\n",
    "\n",
    "The graph is the output which gives the runtime of three algorithms - which compute the sum average of list of numbers.\n",
    "\n",
    "### Implementation:\n",
    "\n",
    "We have to compute the running times of three algorithms and compute a graph for three different runtimes. The algorithms take list as input and iterate over the list and computes average sum of the each iteration over the list.\n",
    "\n",
    "* The first algorithm runs with a time complexity of O(N<sup>2</sup>).\n",
    "\n",
    "* The second algorithm runs with a time complexity of O(N<sup>2</sup>).\n",
    "\n",
    "* The third algorithm runs with a time complexity of O(N).\n",
    "\n",
    "We have used the time library to get the start time and end time after execution of each algorithm\n",
    "\n",
    " ``` \n",
    " start1 = time.perf_counter()\n",
    " avg1 = average1(S)\n",
    " final_time1.append(time.perf_counter()-start1) \n",
    " ```\n",
    "Final time is calculated as (End_time-start_time). The values are stored in a list along with the input sizes which is used to plot a graph. We use Matplotlib library and pyplot module to plot the graph. The graph dimensions are log-log. \n",
    "\n",
    "### Graph Analysis:\n",
    "\n",
    "**Average1** and **Average2** functions run with n<sup>2</sup> times. So we can see after set very small value input the graph starts to grow in a quadratic time and since both have quadratic growth, we can see the growing trend to be similar i.e the lines are parallel. However, we can observe that **Average2** has a lower runtime compared to **Average1** though both of them run in a quadratic time because of the **use of sum inbuilt function in the second algorithm compared to the user defined implementation of sum function using loop**. The performance of inbuilt functions in python is better than loops.\n",
    "\n",
    "*Reference:* [Click here](https://stackoverflow.com/questions/24578896/python-built-in-sum-function-vs-for-loop-performance)\n",
    "\n",
    "The line **Average3** we can see that it increases in linear time if drawn a line through maximum of the points in the graph.The growth is very slow i.e linear when compared to the other two graphs."
   ]
  },
  {
   "cell_type": "markdown",
   "metadata": {},
   "source": [
    "## Problem 5\n",
    "\n",
    "In this question, you will work with the three algorithms, algorithm1, algorithm2, algorithm3,\n",
    "which check whether a given sequence is unique. Perform an experimental analysis to\n",
    "determine the largest value of input size such that the given algorithm runs in less than 45\n",
    "seconds."
   ]
  },
  {
   "cell_type": "code",
   "execution_count": 9,
   "metadata": {},
   "outputs": [],
   "source": [
    "import random\n",
    "import time\n",
    "import sys\n",
    "import matplotlib.pyplot as plt\n",
    "\n",
    "#increase recursion limit\n",
    "sys.setrecursionlimit(50000)\n",
    "def algorithm1(S):\n",
    "    # print(\"length=\",type(S))\n",
    "    for j in range(len(S)):\n",
    "        for k in range(j+1, len(S)):\n",
    "            if S[j] == S[k]:\n",
    "                return False\n",
    "    return True\n",
    "\n",
    "def algorithm2(S):\n",
    "#S:sequence\n",
    "    S = sorted(S)\n",
    "    for j in range(1, len(S)):\n",
    "        if S[j-1] == S[j]:\n",
    "            return False\n",
    "    return True\n",
    "\n",
    "def algorithm3(S, start, stop):\n",
    "#slice S[start:stop],\n",
    "#S:sequence\n",
    "    if stop - start <= 1: return True\n",
    "    elif not algorithm3(S, start, stop-1): return False\n",
    "    elif not algorithm3(S, start+1, stop): return False\n",
    "    else: return S[start] != S[stop-1]\n",
    "\n",
    "# generate random number of numeral in a list\n",
    "def generate_sequence(input_size):\n",
    "    #random.sample() generate unique random integers for a range of input_size followed by a number of integers\n",
    "    input_list=list(random.sample(range(0,input_size),input_size))\n",
    "    #shuffle the random list\n",
    "    random.shuffle(input_list)\n",
    "    return input_list\n",
    "\n",
    "# function computes execution time of the algorithm1\n",
    "def call_algorithm1(step_size):\n",
    "    input_size=10000\n",
    "    input_size_list=[]\n",
    "    total_time_list=[]\n",
    "    while True:\n",
    "        input_list=generate_sequence(input_size)\n",
    "        #start time\n",
    "        start_time=time.perf_counter()\n",
    "        output=algorithm1(input_list)\n",
    "        #end time\n",
    "        end_time=time.perf_counter()\n",
    "        input_size_list.append(input_size)\n",
    "        total_time_list.append(end_time-start_time)\n",
    "        print(\"input sizeof {} runs for {}\".format(input_size,(end_time-start_time)))\n",
    "#         break the loop if the time exceeds 45 secs\n",
    "        if((end_time-start_time)>=45):\n",
    "            break\n",
    "        else:\n",
    "            input_size=input_size+step_size\n",
    "    print(\"algorithm1 run completed\")\n",
    "    # Plot the graph\n",
    "    plt.title(\"Algorithm 1 - Input size vs Running time\")\n",
    "    plt.xlabel(\"Input size\")\n",
    "    plt.ylabel(\"Running Time\")\n",
    "    plt.plot(input_size_list,total_time_list)\n",
    "#     Draw a horizontal line from 45 sec on the graph \n",
    "    plt.axhline(y=45)\n",
    "    return (input_size,end_time-start_time)\n",
    "\n",
    "# function computes execution time of the algorithm2\n",
    "def call_algorithm2(step_size):\n",
    "    input_size=1000\n",
    "    input_size_list=[]\n",
    "    total_time_list=[]\n",
    "    while True:\n",
    "        input_list=generate_sequence(input_size)\n",
    "        start_time=time.perf_counter()\n",
    "        output=algorithm2(input_list)\n",
    "        end_time=time.perf_counter()\n",
    "        input_size_list.append(input_size)\n",
    "        total_time_list.append(end_time-start_time)\n",
    "        print(\"input sizeof {} runs for {}\".format(input_size,(end_time-start_time)))\n",
    "        if((end_time-start_time)>=45):\n",
    "            break\n",
    "        else:\n",
    "            input_size=input_size+step_size\n",
    "    print(\"algorithm2 run completed\")\n",
    "    plt.title(\"Algorithm 2 - Input size vs Running time\")\n",
    "    plt.xlabel(\"Input size\")\n",
    "    plt.ylabel(\"Running Time\") \n",
    "    plt.plot(input_size_list,total_time_list)\n",
    "#     Draw a horizontal line from 45 sec on the graph\n",
    "    plt.axhline(y=45)\n",
    "    return (input_size,end_time-start_time)\n",
    "\n",
    "# function computes execution time of the algorithm3\n",
    "def call_algorithm3(step_size):\n",
    "    input_size=10\n",
    "    input_size_list=[]\n",
    "    total_time_list=[]\n",
    "    while True:\n",
    "        input_list=generate_sequence(input_size)\n",
    "#         print(\"input_size: {}\".format(input_size))\n",
    "        start_time=time.perf_counter()\n",
    "        output=algorithm3(input_list,0,len(input_list))\n",
    "        end_time=time.perf_counter()\n",
    "        input_size_list.append(input_size)\n",
    "        total_time_list.append(end_time-start_time)\n",
    "        print(\"input sizeof {} runs for {}\".format(input_size,(end_time-start_time)))\n",
    "        if((end_time-start_time)>=45):\n",
    "            break\n",
    "        else:\n",
    "            input_size=input_size+step_size\n",
    "    print(\"algorithm3 run completed\")\n",
    "    plt.title(\"Algorithm 3 - Input size vs Running time\")\n",
    "    plt.xlabel(\"Input size\")\n",
    "    plt.ylabel(\"Running Time\")\n",
    "    plt.plot(input_size_list,total_time_list)\n",
    "    #     Draw a horizontal line from 45 sec on the graph \n",
    "    plt.axhline(y=45)\n",
    "    return (input_size,end_time-start_time)\n",
    "\n",
    "\n",
    "#     step_size1,time1=call_algorithm1(5000)\n",
    "#     step_size2,time2=call_algorithm2(10000000)\n",
    "#     step_size3,time3=call_algorithm3(2)\n",
    "\n",
    "#     print(\"===========Algorithm 1===========\")\n",
    "#     print(\"Algorithm1 with input size ={}, runs in {} secs\" .format(step_size1,time1))\n",
    "#     print(\"===========Algorithm 2===========\")\n",
    "#     print(\"Algorithm2 with input size ={}, runs in {} secs\".format(step_size2,time2))\n",
    "#     print(\"===========Algorithm 3===========\")\n",
    "#     print(\"Algorithm3 with input size ={}, runs in {} secs\".format(step_size3,time3))\n"
   ]
  },
  {
   "cell_type": "code",
   "execution_count": 10,
   "metadata": {},
   "outputs": [
    {
     "name": "stdout",
     "output_type": "stream",
     "text": [
      "===========Algorithm 1===========\n",
      "input sizeof 10000 runs for 2.1372090759978164\n",
      "input sizeof 15000 runs for 4.856004235\n",
      "input sizeof 20000 runs for 8.279405337001663\n",
      "input sizeof 25000 runs for 12.972718213997723\n",
      "input sizeof 30000 runs for 20.55026730100508\n",
      "input sizeof 35000 runs for 26.17775953099772\n",
      "input sizeof 40000 runs for 35.81823263899423\n",
      "input sizeof 45000 runs for 44.390543759996945\n",
      "input sizeof 50000 runs for 52.831027640000684\n",
      "algorithm1 run completed\n"
     ]
    },
    {
     "data": {
      "image/png": "[encoded data removed]",
      "text/plain": [
       "<Figure size 432x288 with 1 Axes>"
      ]
     },
     "metadata": {
      "needs_background": "light"
     },
     "output_type": "display_data"
    }
   ],
   "source": [
    "print(\"===========Algorithm 1===========\")\n",
    "step_size1,time1=call_algorithm1(5000)\n",
    "#     print(\"Algorithm1 with input size ={}, runs in {} secs\" .format(step_size1,time1))"
   ]
  },
  {
   "cell_type": "code",
   "execution_count": 11,
   "metadata": {},
   "outputs": [
    {
     "name": "stdout",
     "output_type": "stream",
     "text": [
      "===========Algorithm 2===========\n",
      "input sizeof 1000 runs for 0.00016838800365803763\n",
      "input sizeof 10001000 runs for 3.4211755790020106\n",
      "input sizeof 20001000 runs for 7.321726811002009\n",
      "input sizeof 30001000 runs for 11.517354853000143\n",
      "input sizeof 40001000 runs for 15.402638400999422\n",
      "input sizeof 50001000 runs for 20.4809334140009\n",
      "input sizeof 60001000 runs for 24.8785055690023\n",
      "input sizeof 70001000 runs for 29.11736601099983\n",
      "input sizeof 80001000 runs for 33.933290345004934\n",
      "input sizeof 90001000 runs for 38.65943320099905\n",
      "input sizeof 100001000 runs for 43.7444216570002\n",
      "input sizeof 110001000 runs for 49.02121020100458\n",
      "algorithm2 run completed\n"
     ]
    },
    {
     "data": {
      "image/png": "[encoded data removed]",
      "text/plain": [
       "<Figure size 432x288 with 1 Axes>"
      ]
     },
     "metadata": {
      "needs_background": "light"
     },
     "output_type": "display_data"
    }
   ],
   "source": [
    "print(\"===========Algorithm 2===========\")\n",
    "step_size2,time2=call_algorithm2(10000000)\n",
    "#     print(\"Algorithm2 with input size ={}, runs in {} secs\".format(step_size2,time2))    "
   ]
  },
  {
   "cell_type": "code",
   "execution_count": 12,
   "metadata": {},
   "outputs": [
    {
     "name": "stdout",
     "output_type": "stream",
     "text": [
      "===========Algorithm 3===========\n",
      "input sizeof 10 runs for 0.00010479299817234278\n",
      "input sizeof 12 runs for 0.0003883909957949072\n",
      "input sizeof 14 runs for 0.0013723629963351414\n",
      "input sizeof 16 runs for 0.005771225994976703\n",
      "input sizeof 18 runs for 0.024820867001835722\n",
      "input sizeof 20 runs for 0.09187430299789412\n",
      "input sizeof 22 runs for 0.35754504299984546\n",
      "input sizeof 24 runs for 1.4480941200017696\n",
      "input sizeof 26 runs for 5.722007945005316\n",
      "input sizeof 28 runs for 23.356857128004776\n",
      "input sizeof 30 runs for 95.24760808700375\n",
      "algorithm3 run completed\n"
     ]
    },
    {
     "data": {
      "image/png": "[encoded data removed]",
      "text/plain": [
       "<Figure size 432x288 with 1 Axes>"
      ]
     },
     "metadata": {
      "needs_background": "light"
     },
     "output_type": "display_data"
    }
   ],
   "source": [
    "print(\"===========Algorithm 3===========\")\n",
    "step_size3,time3=call_algorithm3(2)\n",
    "# print(\"Algorithm3 with input size ={}, runs in {} secs\".format(step_size3,time3))"
   ]
  },
  {
   "cell_type": "code",
   "execution_count": null,
   "metadata": {},
   "outputs": [],
   "source": []
  },
  {
   "cell_type": "markdown",
   "metadata": {},
   "source": [
    "### Output:\n",
    "*Approximate values taken from graph*\n",
    "\n",
    "Input size for Algorithm1: **Approximately around 46000**\n",
    "\n",
    "Input size for Algorithm2: **Approximately around 105001000**\n",
    "\n",
    "Input size for Algorithm3: **Approximately around 28**\n",
    "\n",
    "### Execution:\n",
    "\n",
    "For the given 3 algorithms we calculate inputsize for a execution time of 45secs.\n",
    "\n",
    "### Implementation:\n",
    "\n",
    "On Observation we can see that:\n",
    "1. first algorithm runs with **O(N<sup>2</sup>)** time complexity.\n",
    "\n",
    "2. second algorithm runs with **O(nlogn)** time complexity.\n",
    "\n",
    "3. third algorithm runs with **O(2<sup>n</sup>)** time complexity.\n",
    "\n",
    "The __generate_sequence()__ takes the input_size as parameter and generates a random sequence of numbers and stores in a list using random library function *random.sample()* and *random.shuffle()*.\n",
    "I have created 3 fuction definitions for each algorithm *call_algorithm1()*,*call_algorithm2()*,*call_algorithm3()* which takes the step size as input.The step size increases the input_size by a given value.\n",
    "\n",
    "Each of the call_algorithm functions generate the input_list and pass it to the algorithm 1,2,3 functions. We note the execution time of these algorithms by calling a timer function before and after the function call.\n",
    "\n",
    "We store these input_size and runtime values in a list which is passed as a input to the Mathplotlib library's function plot which plots the graph for the given set of runtime and input_size.\n",
    "\n",
    "### Analysis of graph\n",
    "\n",
    "The x-axis is the **input size**. The y-axis is the **Running time**.\n",
    "\n",
    "**Graph1:**  We can see that there is a quadratic increase in the plot. The difference between the runtimes seem to be n<sup>2</sup> times when observed from the values printed.\n",
    "\n",
    "**Graph2:** The graph has a logarithmic increase for the input. Because of log growth the input size is large. I means that the execution is very fast in logn time.\n",
    "\n",
    "**Graph3:** There is a exponential increase for the input size. We can observe that for every small input size the runtime is very large.For 45 secs we can get that only 30 inputs.\n",
    "\n",
    "**Points to note**\n",
    "\n",
    "1. Since the algorithm3 runs with O(2<sup>n</sup>) time compelxity,even small input size causes huge number of recursive calls, because of which recursion limit exceeds the default value set. It means that Python won't let a function call on itself more than 1000 times(default value). In that case we need to increase the recursion limit.\n",
    "\n",
    "~~~\n",
    "import sys\n",
    "\n",
    "sys.setrecursionlimit(50000)\n",
    "~~~\n",
    "\n",
    "Here we set the recursion limit to 50000 from minimum limit of 1000.\n",
    "\n",
    "\n"
   ]
  }
 ],
 "metadata": {
  "kernelspec": {
   "display_name": "Python 3",
   "language": "python",
   "name": "python3"
  },
  "language_info": {
   "codemirror_mode": {
    "name": "ipython",
    "version": 3
   },
   "file_extension": ".py",
   "mimetype": "text/x-python",
   "name": "python",
   "nbconvert_exporter": "python",
   "pygments_lexer": "ipython3",
   "version": "3.9.7"
  }
 },
 "nbformat": 4,
 "nbformat_minor": 4
}
