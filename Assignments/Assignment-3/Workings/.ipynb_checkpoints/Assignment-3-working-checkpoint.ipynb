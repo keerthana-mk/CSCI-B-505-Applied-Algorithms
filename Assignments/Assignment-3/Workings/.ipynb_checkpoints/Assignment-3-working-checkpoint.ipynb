{
 "cells": [
  {
   "cell_type": "markdown",
   "metadata": {},
   "source": [
    "# Assignment-3\n",
    "## Problem 1: Variable Arguments\n",
    "\n",
    "Python allows variable arguments to functions which makes coding easier. Assume we have\n",
    "two functions, one that sums a list of numbers and one that finds the product."
   ]
  },
  {
   "cell_type": "code",
   "execution_count": 4,
   "metadata": {},
   "outputs": [],
   "source": [
    "def sumOfNumbers(x):\n",
    "    s=0\n",
    "    if x:\n",
    "        for i in x:\n",
    "            s+=i\n",
    "    return s;"
   ]
  },
  {
   "cell_type": "code",
   "execution_count": 7,
   "metadata": {},
   "outputs": [
    {
     "name": "stdout",
     "output_type": "stream",
     "text": [
      "summ of numbers:  10\n"
     ]
    }
   ],
   "source": [
    "A=[1,2,3,4]\n",
    "print(\"summ of numbers: \",sumOfNumbers(A))"
   ]
  },
  {
   "cell_type": "code",
   "execution_count": 15,
   "metadata": {},
   "outputs": [],
   "source": [
    "def sumOfProduct(x):\n",
    "    p=1\n",
    "    if x:\n",
    "        for i in x:\n",
    "            p*=i\n",
    "    return p\n"
   ]
  },
  {
   "cell_type": "code",
   "execution_count": 16,
   "metadata": {},
   "outputs": [
    {
     "name": "stdout",
     "output_type": "stream",
     "text": [
      "product of numbers:  24\n"
     ]
    }
   ],
   "source": [
    "A=[1,2,3,4]\n",
    "print(\"product of numbers: \",sumOfProduct(A))"
   ]
  },
  {
   "cell_type": "code",
   "execution_count": 23,
   "metadata": {},
   "outputs": [
    {
     "name": "stdout",
     "output_type": "stream",
     "text": [
      "summ of numbers:  10\n",
      "product of numbers:  24\n"
     ]
    }
   ],
   "source": [
    "def sumOfNumbers(x):\n",
    "    s=0\n",
    "    if x:\n",
    "        for i in x:\n",
    "            s+=i\n",
    "    return s;\n",
    "\n",
    "def sumOfProduct(x):\n",
    "    p=1\n",
    "    if x:\n",
    "        for i in x:\n",
    "            p*=i\n",
    "    return p\n",
    "\n",
    "if __name__=='__main__':\n",
    "    A=[1,2,3,4]\n",
    "    print(\"summ of numbers: \",sumOfNumbers(A))\n",
    "    print(\"product of numbers: \",sumOfProduct(A))\n",
    "    \n",
    "    \n"
   ]
  },
  {
   "cell_type": "markdown",
   "metadata": {},
   "source": [
    "In Pythonthis is denoted with * and **.\n",
    "1. Prefixing a single asterisk means the variable will be bound to a list.\n",
    "2. Prefixing a double asterisk means the variable will be a key value into the dictionary named as the bound variable."
   ]
  },
  {
   "cell_type": "code",
   "execution_count": 39,
   "metadata": {},
   "outputs": [
    {
     "name": "stdout",
     "output_type": "stream",
     "text": [
      "10\n"
     ]
    },
    {
     "ename": "TypeError",
     "evalue": "__main__.Func_sum_prod.<locals>.sumOfProduct() argument after ** must be a mapping, not tuple",
     "output_type": "error",
     "traceback": [
      "\u001b[0;31m---------------------------------------------------------------------------\u001b[0m",
      "\u001b[0;31mTypeError\u001b[0m                                 Traceback (most recent call last)",
      "\u001b[0;32m<ipython-input-39-5c2246bd58fb>\u001b[0m in \u001b[0;36m<module>\u001b[0;34m\u001b[0m\n\u001b[1;32m     32\u001b[0m     \u001b[0mA\u001b[0m\u001b[0;34m=\u001b[0m\u001b[0;34m[\u001b[0m\u001b[0;36m1\u001b[0m\u001b[0;34m,\u001b[0m\u001b[0;36m2\u001b[0m\u001b[0;34m,\u001b[0m\u001b[0;36m3\u001b[0m\u001b[0;34m,\u001b[0m\u001b[0;36m4\u001b[0m\u001b[0;34m]\u001b[0m\u001b[0;34m\u001b[0m\u001b[0;34m\u001b[0m\u001b[0m\n\u001b[1;32m     33\u001b[0m     \u001b[0mprint\u001b[0m\u001b[0;34m(\u001b[0m\u001b[0mFunc_sum_prod\u001b[0m\u001b[0;34m(\u001b[0m\u001b[0mA\u001b[0m\u001b[0;34m,\u001b[0m \u001b[0maction\u001b[0m\u001b[0;34m=\u001b[0m\u001b[0;34m\"sum\"\u001b[0m\u001b[0;34m)\u001b[0m\u001b[0;34m)\u001b[0m\u001b[0;34m\u001b[0m\u001b[0;34m\u001b[0m\u001b[0m\n\u001b[0;32m---> 34\u001b[0;31m     \u001b[0mprint\u001b[0m\u001b[0;34m(\u001b[0m\u001b[0mFunc_sum_prod\u001b[0m\u001b[0;34m(\u001b[0m\u001b[0mA\u001b[0m\u001b[0;34m,\u001b[0m \u001b[0maction\u001b[0m\u001b[0;34m=\u001b[0m\u001b[0;34m\"product\"\u001b[0m\u001b[0;34m)\u001b[0m\u001b[0;34m)\u001b[0m\u001b[0;34m\u001b[0m\u001b[0;34m\u001b[0m\u001b[0m\n\u001b[0m\u001b[1;32m     35\u001b[0m     \u001b[0mprint\u001b[0m\u001b[0;34m(\u001b[0m\u001b[0mFunc_sum_prod\u001b[0m\u001b[0;34m(\u001b[0m\u001b[0mA\u001b[0m\u001b[0;34m,\u001b[0m \u001b[0maction\u001b[0m\u001b[0;34m=\u001b[0m\u001b[0;34m\"reciprocal\"\u001b[0m\u001b[0;34m)\u001b[0m\u001b[0;34m)\u001b[0m\u001b[0;34m\u001b[0m\u001b[0;34m\u001b[0m\u001b[0m\n\u001b[1;32m     36\u001b[0m \u001b[0;34m\u001b[0m\u001b[0m\n",
      "\u001b[0;32m<ipython-input-39-5c2246bd58fb>\u001b[0m in \u001b[0;36mFunc_sum_prod\u001b[0;34m(*x, **y)\u001b[0m\n\u001b[1;32m     23\u001b[0m         \u001b[0;32mreturn\u001b[0m \u001b[0msum_number\u001b[0m\u001b[0;34m(\u001b[0m\u001b[0;34m*\u001b[0m\u001b[0mx\u001b[0m\u001b[0;34m)\u001b[0m\u001b[0;34m\u001b[0m\u001b[0;34m\u001b[0m\u001b[0m\n\u001b[1;32m     24\u001b[0m     \u001b[0;32melif\u001b[0m \u001b[0my\u001b[0m\u001b[0;34m[\u001b[0m\u001b[0;34m\"action\"\u001b[0m\u001b[0;34m]\u001b[0m\u001b[0;34m==\u001b[0m\u001b[0;34m\"product\"\u001b[0m\u001b[0;34m:\u001b[0m\u001b[0;34m\u001b[0m\u001b[0;34m\u001b[0m\u001b[0m\n\u001b[0;32m---> 25\u001b[0;31m         \u001b[0;32mreturn\u001b[0m \u001b[0msumOfProduct\u001b[0m\u001b[0;34m(\u001b[0m\u001b[0;34m**\u001b[0m\u001b[0mx\u001b[0m\u001b[0;34m)\u001b[0m\u001b[0;34m\u001b[0m\u001b[0;34m\u001b[0m\u001b[0m\n\u001b[0m\u001b[1;32m     26\u001b[0m     \u001b[0;32melif\u001b[0m \u001b[0my\u001b[0m\u001b[0;34m[\u001b[0m\u001b[0;34m\"action\"\u001b[0m\u001b[0;34m]\u001b[0m\u001b[0;34m==\u001b[0m\u001b[0;34m\"reciprocal\"\u001b[0m\u001b[0;34m:\u001b[0m\u001b[0;34m\u001b[0m\u001b[0;34m\u001b[0m\u001b[0m\n\u001b[1;32m     27\u001b[0m         \u001b[0;32mreturn\u001b[0m \u001b[0msum_of_reciprocal\u001b[0m\u001b[0;34m(\u001b[0m\u001b[0;34m*\u001b[0m\u001b[0mx\u001b[0m\u001b[0;34m)\u001b[0m\u001b[0;34m\u001b[0m\u001b[0;34m\u001b[0m\u001b[0m\n",
      "\u001b[0;31mTypeError\u001b[0m: __main__.Func_sum_prod.<locals>.sumOfProduct() argument after ** must be a mapping, not tuple"
     ]
    }
   ],
   "source": [
    "def Func_sum_prod(*x,**y):\n",
    "    def sum_number(x):\n",
    "        s=0\n",
    "        if x:\n",
    "            for i in x:\n",
    "                s+=i\n",
    "        return s;\n",
    "    \n",
    "    def sumOfProduct(x):\n",
    "        p=1\n",
    "        if x:\n",
    "            for i in x:\n",
    "                p*=i\n",
    "        return p\n",
    "    def sum_of_reciprocal(x):\n",
    "        s=0\n",
    "        if x:\n",
    "            for i in x:\n",
    "                s=s+(1/i)\n",
    "        return s\n",
    "\n",
    "    if y[\"action\"]==\"sum\":\n",
    "        return sum_number(*x)\n",
    "    elif y[\"action\"]==\"product\":\n",
    "        return sumOfProduct(*x)\n",
    "    elif y[\"action\"]==\"reciprocal\":\n",
    "        return sum_of_reciprocal(*x)\n",
    "    else:\n",
    "        return 0\n",
    "\n",
    "if __name__=='__main__':\n",
    "    A=[1,2,3,4]\n",
    "    print(Func_sum_prod(A, action=\"sum\"))\n",
    "    print(Func_sum_prod(A, action=\"product\"))\n",
    "    print(Func_sum_prod(A, action=\"reciprocal\"))\n",
    "    "
   ]
  }
 ],
 "metadata": {
  "kernelspec": {
   "display_name": "Python 3",
   "language": "python",
   "name": "python3"
  },
  "language_info": {
   "codemirror_mode": {
    "name": "ipython",
    "version": 3
   },
   "file_extension": ".py",
   "mimetype": "text/x-python",
   "name": "python",
   "nbconvert_exporter": "python",
   "pygments_lexer": "ipython3",
   "version": "3.9.7"
  }
 },
 "nbformat": 4,
 "nbformat_minor": 4
}
