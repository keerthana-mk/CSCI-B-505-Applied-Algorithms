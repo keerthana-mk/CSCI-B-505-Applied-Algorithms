{
 "cells": [
  {
   "cell_type": "markdown",
   "metadata": {},
   "source": [
    "# Assignment 5\n",
    "\n",
    "                                All the work herein is solely mine\n",
    "                                \n",
    "                                \n",
    "                                                          Submitted by: Madhavan Kalkunte Ramachandra (madhkr)\n",
    "                                                          \n",
    "                                                          \n",
    "                                                               Partner: Manasi Swaminathan (mswamina) "
   ]
  },
  {
   "cell_type": "markdown",
   "metadata": {},
   "source": [
    "# Problem 1\n",
    "\n",
    "## Problem 1.1: The brute-force pattern-matching algorithm\n",
    "\n",
    "Describe a text D and a pattern P such that the brute-force pattern-matching algorithm runs in Ω(dp) time.The lengths of D and P are d and p, respectively.\n",
    "\n",
    "\n",
    "## Solution 1.1:\n",
    "\n",
    "**Big-Omega (Ω) notation** gives a lower bound for a function f(n) to within a constant factor.\n",
    "\n",
    "We write f(n) = Ω(g(n)), If there are positive constants n0 and c such that, to the right of n0 the f(n) always lies on or above c*g(n).\n",
    "\n",
    "So, in our case, we have to find an input text D and pattern P such that brute force algorithm runs at Ω(dp) where d and p are lengths of text and pattern respectively.\n",
    "\n",
    "For example, if our text has 10 characters and pattern has 2 characters, then our choice of text must be such that the algorithm does atleast 20 comparisons. \n",
    "\n",
    "In brute force algorithm the number of comparisons is dependent on the first mismatch we encouter between the text and pattern. So if we have to maximize the number of comparisons, then the mismatch between the text and at a must be as far ahead in the pattern as possible. i.e if the mismatch exists in the end of pattern, highest number of comparisons ( = length of pattern) will have occured.\n",
    "\n",
    "Another factor that impacts the number of comparisons is the length of the pattern. We know that the worst case comparisons that can happen is (d-p+1)* p. Our aim is to maximize this comparison so that it is atleast (d * p)\n",
    "\n",
    "i.e (d-p+1)* p >= (d)* p\n",
    "=>  (d-p+1) >= d\n",
    "=>  p <= 1\n",
    "\n",
    "That is if our pattern is lesser than or equal to 1 then we will do atleast (d * p) comparisons. And since pattern length has to be atleast 1 (0 length pattern is a trivial case i.e it exists in every text). Further, we have two choices for pattern of length 1:\n",
    "1) A single character that exists in the text: In this case we may get a pattern match before we have done **dp** number of comparisons. Hence it is not the ideal choice.\n",
    "2) A single character that does not exist in the text: In this case we are guarenteed to compare with every character from the text. Since p=1 and we compare with every character from D, we will be doing **dp=d * 1 = d** comparisons.\n",
    "\n",
    "**Conclusion: Therefore, if we have to run the brute-force algorithm in Ω(dp) time, then we have to choose a pattern of length 1 such that the pattern is non-existent in the text. **\n",
    "\n",
    "*we can observe the above conclusion in the following code:*\n",
    "\n"
   ]
  },
  {
   "cell_type": "code",
   "execution_count": 6,
   "metadata": {},
   "outputs": [
    {
     "name": "stdout",
     "output_type": "stream",
     "text": [
      "input.size - d =  18\n",
      "pattern.size - p =  1\n",
      "number of comparisons =  18 = d*p = 18\n"
     ]
    }
   ],
   "source": [
    "# Brute force\n",
    "def find_brute(T, P):\n",
    "    n, m = len(T), len(P)\n",
    "    # every starting position\n",
    "    comparison = 0\n",
    "    for i in range(n - m + 1):\n",
    "        k = 0\n",
    "        while k < m:\n",
    "            comparison += 1\n",
    "            if T[i + k] != P[k]:\n",
    "                break\n",
    "            k = k + 1\n",
    "        if k == m:\n",
    "            print('pattern found')\n",
    "            return comparison\n",
    "    return comparison\n",
    "\n",
    "\n",
    "if __name__ == '__main__':\n",
    "    input = 'AAAAAAAAAAAAAAAAAB'\n",
    "    pattern = 'V'\n",
    "    print('input.size - d = ', len(input))\n",
    "    print('pattern.size - p = ', len(pattern))\n",
    "    print(\"number of comparisons = \", find_brute(input, pattern), \"= d*p =\", len(input)*len(pattern))"
   ]
  },
  {
   "cell_type": "markdown",
   "metadata": {},
   "source": [
    "## Problem 1.2 \n",
    "\n",
    "In this part, you are asked to modify three pattern matching programs given to you (See appendix). Run your modified programs for varying-length patterns and show your results. The count method in Python’s str class takes a text D and a pattern P and returns the maximum number of non-overlapping occurrences of a P within D. As an example ‘cdcdcdcdc’.count(‘cdc’) returns 2.\n",
    "1. Modify the brute-force pattern-matching to return non-overlapping occurrences of a P within D.\n",
    "2. Similar to the previous question (Problem 1.2.1), do the same on the Boyer-Moore program.\n",
    "3. Similar to problem 1.2.1, modify the KMP program."
   ]
  },
  {
   "cell_type": "code",
   "execution_count": null,
   "metadata": {},
   "outputs": [],
   "source": [
    "input_strs = []"
   ]
  },
  {
   "cell_type": "code",
   "execution_count": 11,
   "metadata": {},
   "outputs": [
    {
     "name": "stdout",
     "output_type": "stream",
     "text": [
      "0\n"
     ]
    }
   ],
   "source": [
    "# Brute force\n",
    "def modified_find_brute(T, P):\n",
    "    n, m = len(T), len(P)\n",
    "    # every starting position\n",
    "    occurances = 0\n",
    "    i = 0\n",
    "    while i < (n-m+1):\n",
    "        k=0\n",
    "        while k < m:\n",
    "            if T[i + k] != P[k]:\n",
    "                break\n",
    "            k = k + 1\n",
    "        if k==m:\n",
    "            occurances += 1\n",
    "            i += m\n",
    "        else:\n",
    "            i+=1\n",
    "    return occurances\n",
    "\n",
    "\n",
    "print(\"non overlapping occurances according to brute force: \", modified_find_brute('AAAAAB', 'D'))\n",
    "print(\"non overlapping occurances according to brute force: \", modified_find_brute('AAAAAB', 'D'))"
   ]
  },
  {
   "cell_type": "code",
   "execution_count": 14,
   "metadata": {},
   "outputs": [
    {
     "name": "stdout",
     "output_type": "stream",
     "text": [
      "0\n"
     ]
    }
   ],
   "source": [
    "# Boyer - Moore\n",
    "def modified_find_boyer_moore (T , P ) :\n",
    "    n , m = len ( T ) , len ( P )\n",
    "    if m == 0:\n",
    "        return 0\n",
    "    last = {}\n",
    "    for k in range ( m ) :\n",
    "        last [ P [ k ]] = k\n",
    "    i = m -1\n",
    "    k = m -1\n",
    "    occurances = 0\n",
    "    while i < n :\n",
    "\n",
    "        if T [ i ] == P [ k ]:\n",
    "            if k == 0:\n",
    "                occurances+=1\n",
    "                i += m\n",
    "            else :\n",
    "                i -= 1\n",
    "                k -= 1\n",
    "        # Not match , reset the positions\n",
    "        else:\n",
    "            j = last . get ( T [ i ] , -1)\n",
    "            i += m - min (k , j +1)\n",
    "            k = m -1\n",
    "    return occurances\n",
    "\n",
    "print(modified_find_boyer_moore('AAAAAB', 'D'))"
   ]
  },
  {
   "cell_type": "code",
   "execution_count": 21,
   "metadata": {},
   "outputs": [
    {
     "name": "stdout",
     "output_type": "stream",
     "text": [
      "0\n"
     ]
    }
   ],
   "source": [
    "# KMP failure function\n",
    "def compute_kmp_fail ( P ) :\n",
    "    m = len ( P )\n",
    "    fail = [0] * m\n",
    "    j = 1\n",
    "    k = 0\n",
    "    while j < m :\n",
    "        if P [ j ] == P [ k ]:\n",
    "            fail [ j ] = k +1\n",
    "            j += 1\n",
    "            k += 1\n",
    "        elif k > 0:\n",
    "            k = fail [k -1]\n",
    "        else :\n",
    "            j += 1\n",
    "    return fail\n",
    "\n",
    "# KMP\n",
    "def modified_find_kmp (T , P ) :\n",
    "    n , m = len ( T ) , len ( P )\n",
    "    if m == 0:\n",
    "        return 0\n",
    "    fail = compute_kmp_fail ( P )\n",
    "    # print ( fail )\n",
    "    j = 0\n",
    "    k = 0\n",
    "    occurances=0\n",
    "    while j < n :\n",
    "        if T [ j ] == P [ k ]:\n",
    "            if k == m - 1:\n",
    "                occurances+=1\n",
    "                j += m\n",
    "            else:\n",
    "                j += 1\n",
    "                k += 1\n",
    "        elif k > 0:\n",
    "            k = fail [k -1]\n",
    "        else :\n",
    "            j += 1\n",
    "\n",
    "    return occurances\n",
    "\n",
    "print(modified_find_kmp('AAAAAB', 'D'))"
   ]
  },
  {
   "cell_type": "code",
   "execution_count": null,
   "metadata": {},
   "outputs": [],
   "source": []
  }
 ],
 "metadata": {
  "kernelspec": {
   "display_name": "Python 3",
   "language": "python",
   "name": "python3"
  },
  "language_info": {
   "codemirror_mode": {
    "name": "ipython",
    "version": 3
   },
   "file_extension": ".py",
   "mimetype": "text/x-python",
   "name": "python",
   "nbconvert_exporter": "python",
   "pygments_lexer": "ipython3",
   "version": "3.9.7"
  }
 },
 "nbformat": 4,
 "nbformat_minor": 5
}
