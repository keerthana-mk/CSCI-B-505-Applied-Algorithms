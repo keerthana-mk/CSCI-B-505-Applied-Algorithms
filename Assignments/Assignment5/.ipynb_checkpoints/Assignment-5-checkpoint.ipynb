{
 "cells": [
  {
   "cell_type": "markdown",
   "metadata": {},
   "source": [
    "# Assignment-5                                                                    \n",
    "                                                                             Partner Name:Prasad Hegde\n",
    " \n",
    "                                                                                Partner userid:\n",
    "\n",
    "                               \"All the work herein is solely mine\"\n",
    "                               \n",
    "                               "
   ]
  },
  {
   "cell_type": "markdown",
   "metadata": {},
   "source": [
    "## Problem 1: Pattern-matching: The brute-force\n",
    "\n",
    "### Problem 1.1: The brute-force pattern-matching algorithm\n",
    "Describe a text D and a pattern P such that the brute-force pattern-matching algorithm runs in\n",
    "Ω(dp) time.The lengths of D and P are d and p, respectively."
   ]
  },
  {
   "cell_type": "markdown",
   "metadata": {},
   "source": [
    "The maximum number of comparisons in brute force occur when the pattern matches completely except the last character. Hence, at every alignment len(P) comparisons will be made. So we have to choose a pattern such that all but last character matches.\n",
    "\n",
    "Consider Text D='aaaaaaaaab' and pattern P=aaab' where d=len(D)=10, p=len(P)=4. Observe P in D, we have 3 matching characters ('aaa') in each d-p iterations. Hence, our brute-force algorithm do (d-p)*(p-1) comparisions. Acknowledge that p is never greater than d or p<sup>2</sup> == dp.\n",
    "\n",
    "Therefore, for above pattern and the text the brute-force pattern-matching algorithm runs in Ω(dp)"
   ]
  },
  {
   "cell_type": "markdown",
   "metadata": {},
   "source": [
    "### Problem 1.2: Python’s str class and pattern-matching\n",
    "In this part, you are asked to modify three pattern matching programs given to you (See appendix). Run your modified programs for varying-length patterns and show your results.\n",
    "The count method in Python’s str class takes a text D and a pattern P and returns the maximum number of non-overlapping occurrences of a P within D. As an example ‘cdcdcdcdc’.count(‘cdc’) returns 2.\n",
    "\n",
    "1. Modify the brute-force pattern-matching to return non-overlapping occurrences of a P within D.\n",
    "2. Similar to the previous question (Problem 1.2.1), do the same on the Boyer-Moore program.\n",
    "3. Similar to problem 1.2.1, modify the KMP program."
   ]
  },
  {
   "cell_type": "markdown",
   "metadata": {},
   "source": [
    "### Brute Force"
   ]
  },
  {
   "cell_type": "code",
   "execution_count": 46,
   "metadata": {},
   "outputs": [
    {
     "name": "stdout",
     "output_type": "stream",
     "text": [
      "no. of non overlapping cdc in cdcdcdcdc = 2\n",
      "no. of non overlapping cd in cdcdcdcdc = 4\n",
      "no. of non overlapping cdcd in cdcdcdcdc = 2\n",
      "no. of non overlapping dcd in cdcdcdcdc = 2\n",
      "no. of non overlapping aaba in aabaabaaba = 0\n"
     ]
    }
   ],
   "source": [
    "# Modify the brute-force pattern-matching to return non-overlapping occurrences of a P within D. \n",
    "    # Brute force\n",
    "def modified_find_brute(T, P):\n",
    "    '''\n",
    "    a count - keep count of non-overlapping pattern P in text T\n",
    "    j pointer - where to start matching pattern next\n",
    "    '''  \n",
    "    n, m, count,j= len(T), len(P), 0,0\n",
    "     # every starting position\n",
    "    for i in range(n-m+1):\n",
    "        k = 0\n",
    "        # when text match the pattern, skip to the end of pattern\n",
    "        if(j!=i):\n",
    "            continue\n",
    "    # conduct O(k) comparisons\n",
    "        while k < m and T[i+k] == P[k]:\n",
    "            k += 1\n",
    "        if k == m:\n",
    "            count+=1\n",
    "            j=i+k\n",
    "        else:\n",
    "            j=i+1\n",
    "    return count\n",
    "\n",
    "\n",
    "print('no. of non overlapping cdc '+'in'+' cdcdcdcdc =',modified_find_brute('cdcdcdcdc','cdc'))\n",
    "print('no. of non overlapping cd '+'in'+' cdcdcdcdc =',modified_find_brute('cdcdcdcdc','cd'))\n",
    "print('no. of non overlapping cdcd '+'in'+' cdcdcdcdc =',modified_find_brute('cdcdcdcdc','cdcd'))\n",
    "print('no. of non overlapping dcd '+'in'+' cdcdcdcdc =',modified_find_brute('cdcdcdcdc','dcd'))\n",
    "print('no. of non overlapping aaba '+'in'+' aabaabaaba =',modified_find_brute('ABCABFC','ACC'))"
   ]
  },
  {
   "cell_type": "markdown",
   "metadata": {},
   "source": [
    "### Boyer Moore\n",
    "Initialise, a **count** variable tokeep count of non-overlapping pattern P in text T. When the pattern is matched we increase the count by one and shift i such that we jump the matched text and continue matching next."
   ]
  },
  {
   "cell_type": "code",
   "execution_count": 48,
   "metadata": {},
   "outputs": [
    {
     "name": "stdout",
     "output_type": "stream",
     "text": [
      "no. of non overlapping cdc in cdcdcdcdc = 2\n",
      "no. of non overlapping cd in cdcdcdcdc = 4\n",
      "no. of non overlapping cdcd in cdcdcdcdc = 2\n",
      "no. of non overlapping dcd in cdcdcdcdc = 2\n",
      "no. of non overlapping aaba in aabaabaaba = 0\n"
     ]
    }
   ],
   "source": [
    "# Similar to the previous question (Problem 1.2.1), do the same on the Boyer-Moore program.\n",
    "# Boyer - Moore\n",
    "def modified_find_boyer_moore(T, P):\n",
    "    n, m = len(T), len(P)\n",
    "    count =  0\n",
    "    if m == 0:\n",
    "        return 0\n",
    "    last = {}\n",
    "    for k in range(m):\n",
    "        last[P[k]] = k\n",
    "    i = m-1\n",
    "    k = m-1\n",
    "    while i < n:\n",
    "        # If match , decrease i,k\n",
    "        if T[i] == P[k]:\n",
    "            if k == 0:\n",
    "                count+=1\n",
    "                i=i+2*m-1\n",
    "                k=m-1\n",
    "            else:\n",
    "                i -= 1\n",
    "                k -= 1\n",
    "        else:\n",
    "            j = last.get(T[i], -1)\n",
    "            i += m - min(k, j+1)\n",
    "            k = m-1\n",
    "    return count\n",
    "print('no. of non overlapping cdc '+'in'+' cdcdcdcdc =',modified_find_boyer_moore('cdcdcdcdc','cdc'))\n",
    "print('no. of non overlapping cd '+'in'+' cdcdcdcdc =',modified_find_boyer_moore('cdcdcdcdc','cd'))\n",
    "print('no. of non overlapping cdcd '+'in'+' cdcdcdcdc =',modified_find_boyer_moore('cdcdcdcdc','cdcd'))\n",
    "print('no. of non overlapping dcd '+'in'+' cdcdcdcdc =',modified_find_boyer_moore('cdcdcdcdc','dcd'))\n",
    "print('no. of non overlapping aaba '+'in'+' aabaabaaba =',modified_find_boyer_moore('ABCABFC','ACC'))"
   ]
  },
  {
   "cell_type": "markdown",
   "metadata": {},
   "source": [
    "### KMP Algorithm\n",
    "Initialize the **count** to zero. Increase the count whenever we find a pattern matching text, increase the pointer by one, and continue matching the pattern."
   ]
  },
  {
   "cell_type": "code",
   "execution_count": 52,
   "metadata": {},
   "outputs": [
    {
     "name": "stdout",
     "output_type": "stream",
     "text": [
      "no. of non overlapping cdc in cdcdcdcdc = 2\n",
      "no. of non overlapping cd in cdcdcdcdc = 4\n",
      "no. of non overlapping cdcd in cdcdcdcdc = 2\n",
      "no. of non overlapping dcd in cdcdcdcdc = 2\n",
      "no. of non overlapping aaba in aabaabaaba = 0\n"
     ]
    }
   ],
   "source": [
    "# Similar to problem 1.2.1, modify the KMP program.\n",
    "# KMP failure function\n",
    "def compute_kmp_fail(P):\n",
    "    m = len(P)\n",
    "    fail = [0] * m\n",
    "    j = 1\n",
    "    k = 0\n",
    "    while j < m:\n",
    "        if P[j] == P[k]:\n",
    "            fail[j] = k+1\n",
    "            j += 1\n",
    "            k += 1\n",
    "        elif k > 0:\n",
    "            k = fail[k-1]\n",
    "        else:\n",
    "            j += 1\n",
    "    return fail\n",
    "\n",
    "# KMP\n",
    "def modified_find_kmp(T, P):\n",
    "    n, m = len(T), len(P)\n",
    "    count = 0\n",
    "    if m == 0:\n",
    "        return 0\n",
    "    fail = compute_kmp_fail(P)\n",
    "    # print(fail)\n",
    "    j = 0\n",
    "    k = 0\n",
    "    while j < n:\n",
    "        if T[j] == P[k]:\n",
    "            if k == m-1:\n",
    "                count+=1\n",
    "                j+=1\n",
    "                k=0\n",
    "            else:\n",
    "                j += 1\n",
    "                k += 1\n",
    "        elif k > 0:\n",
    "            k = fail[k-1]\n",
    "        else:\n",
    "            j += 1\n",
    "    return count\n",
    "\n",
    "print('no. of non overlapping cdc '+'in'+' cdcdcdcdc =',modified_find_kmp('cdcdcdcdc','cdc'))\n",
    "print('no. of non overlapping cd '+'in'+' cdcdcdcdc =',modified_find_kmp('cdcdcdcdc','cd'))\n",
    "print('no. of non overlapping cdcd '+'in'+' cdcdcdcdc =',modified_find_kmp('cdcdcdcdc','cdcd'))\n",
    "print('no. of non overlapping dcd '+'in'+' cdcdcdcdc =',modified_find_kmp('cdcdcdcdc','dcd'))\n",
    "print('no. of non overlapping aaba '+'in'+' aabaabaaba =',modified_find_kmp('ABCABFC','ACC'))"
   ]
  },
  {
   "cell_type": "markdown",
   "metadata": {},
   "source": [
    "## Problem 2: Experimental Analysis of Pattern-Matching Algorithms\n",
    "Perform an experimental analysis of pattern matching algorithms in terms of:\n",
    "1. Number of character comparison: Perform an experimental analysis of the efficiency of\n",
    "the brute-force, the KMP and Boyer-Moore pattern matching algorithms for varying-length\n",
    "patterns.\n",
    "2. Relative speed comparison: Perform an experimental comparison of the brute-force, KMP,\n",
    "and Boyer-Moore pattern-matching algorithms. Run each algorithm against large text doc-\n",
    "uments using varying-length patterns and report the relative running times."
   ]
  },
  {
   "cell_type": "code",
   "execution_count": 154,
   "metadata": {},
   "outputs": [],
   "source": [
    "import random\n",
    "import time\n",
    "import matplotlib.pyplot as plt"
   ]
  },
  {
   "cell_type": "code",
   "execution_count": 79,
   "metadata": {},
   "outputs": [],
   "source": [
    " # Brute force\n",
    "def v1_find_brute (T , P ) :\n",
    "    n , m = len ( T ) , len ( P )\n",
    "    # every starting position\n",
    "    comparison=0\n",
    "    for i in range (n - m +1) :\n",
    "        k = 0\n",
    "        # conduct O ( k ) comparisons\n",
    "        while k < m:\n",
    "            comparison += 1\n",
    "            if T [ i + k ] != P [ k ]:\n",
    "                break\n",
    "            k = k+1\n",
    "        if k == m :\n",
    "            return comparison  \n",
    "    return comparison"
   ]
  },
  {
   "cell_type": "code",
   "execution_count": 80,
   "metadata": {},
   "outputs": [],
   "source": [
    "# Boyer - Moore\n",
    "def v1_find_boyer_moore (T , P ) :\n",
    "    n , m = len ( T ) , len ( P )\n",
    "    if m == 0:\n",
    "        return 0\n",
    "    last = {}\n",
    "    for k in range ( m ) :\n",
    "        last [ P [ k ]] = k\n",
    "    i = m -1\n",
    "    k = m -1\n",
    "    comparison=0\n",
    "    while i < n :\n",
    "        comparison=comparison+1\n",
    "        # If match , decrease i , k\n",
    "        if T [ i ] == P [ k ]:\n",
    "            if k == 0:\n",
    "#                 print(\"boyre moore found a match!\")\n",
    "                return comparison\n",
    "            else :\n",
    "                i -= 1\n",
    "                k -= 1\n",
    "        # Not match , reset the positions\n",
    "        else:\n",
    "            j = last . get ( T [ i ] , -1)\n",
    "            i += m - min (k , j +1)\n",
    "            k = m -1\n",
    "    return comparison"
   ]
  },
  {
   "cell_type": "code",
   "execution_count": 82,
   "metadata": {},
   "outputs": [],
   "source": [
    "import random\n",
    "\n",
    "# Brute force\n",
    "def comp_find_brute(T, P):\n",
    "    n, m = len(T), len(P)\n",
    "    # every starting position\n",
    "    char_comps = 0\n",
    "    i = 0\n",
    "    while i < (n-m+1):\n",
    "        k=0\n",
    "        while k < m:\n",
    "            char_comps += 1\n",
    "            if T[i + k] != P[k]:\n",
    "                break\n",
    "            k = k + 1\n",
    "        if k==m:\n",
    "            break\n",
    "        else:\n",
    "            i+=1\n",
    "    return char_comps\n",
    "\n",
    "\n",
    "# Boyer - Moore\n",
    "def comp_find_boyer_moore (T , P ) :\n",
    "    n , m = len ( T ) , len ( P )\n",
    "    if m == 0:\n",
    "        return 0\n",
    "    last = {}\n",
    "    for k in range ( m ) :\n",
    "        last [ P [ k ]] = k\n",
    "    i = m -1\n",
    "    k = m -1\n",
    "    char_comps = 0\n",
    "    while i < n :\n",
    "        char_comps += 1\n",
    "        if T [i] == P[k]:\n",
    "            if k == 0:\n",
    "                return char_comps\n",
    "                i += 1\n",
    "            else:\n",
    "                i -= 1\n",
    "                k -= 1\n",
    "        # Not match , reset the positions\n",
    "        else:\n",
    "            j = last.get (T[i],-1)\n",
    "            i += m - min (k,j+1)\n",
    "            k = m - 1\n",
    "    return char_comps\n",
    "\n",
    "\n",
    "# KMP failure function\n",
    "def comp_compute_kmp_fail ( P ) :\n",
    "    m = len ( P )\n",
    "    fail = [0] * m\n",
    "    j = 1\n",
    "    k = 0\n",
    "    while j < m :\n",
    "        if P [ j ] == P [ k ]:\n",
    "            fail [ j ] = k +1\n",
    "            j += 1\n",
    "            k += 1\n",
    "        elif k > 0:\n",
    "            k = fail [k -1]\n",
    "        else :\n",
    "            j += 1\n",
    "    return fail\n",
    "\n",
    "# KMP\n",
    "def comp_find_kmp (T , P ) :\n",
    "    n , m = len ( T ) , len ( P )\n",
    "    if m == 0:\n",
    "        return 0\n",
    "    fail = comp_compute_kmp_fail ( P )\n",
    "    # print ( fail )\n",
    "    j = 0\n",
    "    k = 0\n",
    "    char_comps=0\n",
    "    while j < n :\n",
    "        char_comps += 1\n",
    "        if T[j] == P[k]:\n",
    "            j += 1\n",
    "            k += 1\n",
    "            if k == m :\n",
    "                break\n",
    "        elif k > 0:\n",
    "            k = fail [k -1]\n",
    "        else :\n",
    "            j += 1\n",
    "    return char_comps"
   ]
  },
  {
   "cell_type": "code",
   "execution_count": 88,
   "metadata": {},
   "outputs": [
    {
     "data": {
      "image/png": "[encoded data removed]",
      "text/plain": [
       "<Figure size 432x288 with 1 Axes>"
      ]
     },
     "metadata": {
      "needs_background": "light"
     },
     "output_type": "display_data"
    },
    {
     "data": {
      "image/png": "[encoded data removed]",
      "text/plain": [
       "<Figure size 432x288 with 1 Axes>"
      ]
     },
     "metadata": {
      "needs_background": "light"
     },
     "output_type": "display_data"
    }
   ],
   "source": [
    "random.seed(50)\n",
    "def generate_pattern_sizes(Source_text):\n",
    "    m=len(Source_text)\n",
    "    percentages = [0.1, 0.2, 0.25, 0.3, 0.4, 0.6, 0.7, 0.8, 0.9]\n",
    "    n=[ int(x*len(Source_text)) for x in percentages]\n",
    "    pattern_substring=[]\n",
    "    for i in n:\n",
    "        random_index= random.randint(0,m-i)\n",
    "        pattern_substring.append(Source_text[random_index:random_index+i])\n",
    "    return pattern_substring\n",
    "\n",
    "def gen_random_text(size):\n",
    "    alphabet = ['a', 'b', 'c', 'd', 'e', 'f', 'g', 'h', 'i', 'j', 'k', 'l', 'm','n','o','p']\n",
    "    input_char_list = [random.choice(alphabet) for i in range(size)]\n",
    "    input_str = ''.join([str(elem) for elem in input_char_list])\n",
    "    return input_str\n",
    "\n",
    "def run_experiment_input1(text_string):\n",
    "    final_time_brute=[]\n",
    "    final_time_boyer=[]\n",
    "    final_time_KMP=[]\n",
    "    brute_k_comparisons=[]\n",
    "    BM_k_comparison=[]\n",
    "    KMP_k_comparison=[]\n",
    "    pattern_substring=generate_pattern_sizes(text_string)\n",
    "    for pattern in pattern_substring:\n",
    "#         print(\"pattern=\",pattern)\n",
    "        pattern=pattern\n",
    "        start_time=time.perf_counter()\n",
    "        k1=v1_find_brute(text_string,pattern)\n",
    "        final_time_brute.append(time.perf_counter()-start_time)\n",
    "        brute_k_comparisons.append(k1)\n",
    "        start_time1=time.perf_counter()\n",
    "        k2=v1_find_boyer_moore(text_string,pattern)\n",
    "        final_time_boyer.append(time.perf_counter()-start_time1)\n",
    "        BM_k_comparison.append(k2)\n",
    "        start_time2=time.perf_counter()\n",
    "        k3=comp_find_kmp(text_string,pattern)\n",
    "        final_time_KMP.append(time.perf_counter()-start_time2)\n",
    "        KMP_k_comparison.append(k3)\n",
    "    lengths = [len(x) for x in pattern_substring]\n",
    "    plt.xlabel(\"Size of patterns - Input1\",)\n",
    "    plt.ylabel(\"Comparisons\")\n",
    "    plt.plot(lengths ,brute_k_comparisons, label = \"Brute Force\")\n",
    "    plt.plot(lengths ,BM_k_comparison, label = \"Boyer Moore\")\n",
    "    plt.plot(lengths ,KMP_k_comparison, label = \"KMP \")\n",
    "    plt.legend()\n",
    "    plt.show()\n",
    "    plt.clf()\n",
    "    plt.xlabel(\"Size of patterns- Input1\")\n",
    "    plt.ylabel(\"Execution time\")\n",
    "    plt.plot(lengths ,final_time_brute, label = \"Brute Force\")\n",
    "    plt.plot(lengths ,final_time_boyer, label = \"Boyer Moore\")\n",
    "    plt.plot(lengths ,final_time_KMP, label = \"KMP \")\n",
    "    plt.legend()\n",
    "    \n",
    "input_str = gen_random_text(5000)\n",
    "run_experiment_input1(input_str)\n"
   ]
  },
  {
   "cell_type": "markdown",
   "metadata": {},
   "source": [
    "### Analysis of Character comparisons:\n",
    "\n",
    "We need to calculate the number of comparisons made for checking if a pattern is matching or not matching.The above programs are modified to inculcate the counting of comparisons made. As told we need to compare three patttern matching algorithms.\n",
    "* Brute Force\n",
    "* Boyer-Moore Algorithm\n",
    "* KMP algorithm\n",
    "\n",
    "Each of these algorithms work the best for different types of text inputs.For example KMP works best when the pattern has repeating sub-patterns(For example: DNA sequences).\n",
    "\n",
    "We have considered different types of inputs to show how the character comparisons happen.In order to generate patterns of different length a *generate_pattern_sizes()* function is used which takes src_text as input and \n",
    "generates substring as patterns of given length from a random index.\n",
    "\n",
    "From the run experiment of input1 where the input is a \n"
   ]
  },
  {
   "cell_type": "markdown",
   "metadata": {},
   "source": [
    "## Problem 3: Matrix-chain Multiplication\n",
    "The matrix-chain multiplication problem: Given a chain of < D 1 , D 2 , . . . , D n > of n matrices fully\n",
    "parenthesize the product < D 1 ·D 2 · · · D n > in a way so that the number of scalar multiplications\n",
    "is minimized. Each D i has a p i−1 × p i dimension and i = 1, 2, . . . , n."
   ]
  },
  {
   "cell_type": "markdown",
   "metadata": {},
   "source": [
    "### 1. The Brute-Force:\n",
    "Implement a Python program to solve the matrix-chain multiplication problem by the brute force algorithm."
   ]
  },
  {
   "cell_type": "code",
   "execution_count": null,
   "metadata": {},
   "outputs": [],
   "source": []
  },
  {
   "cell_type": "markdown",
   "metadata": {},
   "source": [
    "### 2. Bottom-up Dynamic Programming:\n",
    "Implement a Python program to solve the matrix-chain multiplication problem using bottom-up dynamic programming approach."
   ]
  },
  {
   "cell_type": "code",
   "execution_count": null,
   "metadata": {},
   "outputs": [],
   "source": []
  },
  {
   "cell_type": "markdown",
   "metadata": {},
   "source": [
    "### 3. Dynamic Programming with Memoization [Extra Credit]: \n",
    "Implement a Python program to solve the matrix-chain multiplication problem using dynamic programming with\n",
    "memoization."
   ]
  },
  {
   "cell_type": "code",
   "execution_count": null,
   "metadata": {},
   "outputs": [],
   "source": []
  },
  {
   "cell_type": "markdown",
   "metadata": {},
   "source": [
    "## Problem 4: Longest Common Sub-sequence (LCS) Problem\n",
    "Implement a Python program to solve LCS problem using dynamic programming. Run your program to find the best sequence alignment between DNA strings. Show your results.\n",
    "\n",
    "*Longest Common Sub-sequence (LCS) problem: Given two character strings over some alphabet, find a longest string that is a sub-sequence of given two strings.*"
   ]
  },
  {
   "cell_type": "code",
   "execution_count": 207,
   "metadata": {},
   "outputs": [],
   "source": [
    "def longest_common_substring(Text1, Text2):\n",
    "    lcs_matrix = [[\"\" for x in range(len(Text2))] for x in range(len(Text1))]\n",
    "    \n",
    "    for i in range(len(Text1)):\n",
    "        for j in range(len(Text2)):\n",
    "            if Text1[i] == Text2[j]:\n",
    "                if i == 0 or j == 0:\n",
    "                    lcs_matrix[i][j] = Text1[i]\n",
    "                else:\n",
    "                    lcs_matrix[i][j] = lcs_matrix[i-1][j-1] + Text1[i]\n",
    "            else:\n",
    "                lcs_matrix[i][j] = max(lcs_matrix[i-1][j], lcs_matrix[i][j-1] , key=len)\n",
    "    common_substring = lcs_matrix[-1][-1]\n",
    "    return common_substring.upper()"
   ]
  },
  {
   "cell_type": "code",
   "execution_count": 203,
   "metadata": {},
   "outputs": [
    {
     "data": {
      "text/plain": [
       "'ACATGGCCTCCCGTTCTGCACATATGGCCGACGTAGTATTAACCTCACTTAGGCCT'"
      ]
     },
     "execution_count": 203,
     "metadata": {},
     "output_type": "execute_result"
    }
   ],
   "source": [
    "text1=\"acaaatatggccgtcccaggacttcaataagaccaaaaacatatgagccgataaacgtacgtaatataaaacctcgaaacagggtatatggcacagtgga\"\n",
    "text2=\"tatgcgggcggccatgcgcctcccgttctgctacgaggtccatccggtttttcctgcacgctagtcagttcgcacccggaccttcacttagagctgtctc\"\n",
    "longest_common_substring(text1,text2)\n",
    "acatggcctcccgttctgcacatatggccgacgtagtattaacctcacttaggcct"
   ]
  },
  {
   "cell_type": "code",
   "execution_count": 205,
   "metadata": {},
   "outputs": [
    {
     "data": {
      "text/plain": [
       "'AGTC'"
      ]
     },
     "execution_count": 205,
     "metadata": {},
     "output_type": "execute_result"
    }
   ],
   "source": [
    "text3=\"agtc\"\n",
    "text4=\"agtc\"\n",
    "longest_common_substring(text3,text4)"
   ]
  },
  {
   "cell_type": "markdown",
   "metadata": {},
   "source": [
    "### Output:\n",
    "Given two DNA Sequence as input:\n",
    "text1=\"acaaatatggccgtcccaggacttcaataagaccaaaaacatatgagccgataaacgtacgtaatataaaacctcgaaacagggtatatggcacagtgga\"\n",
    "\n",
    "text2=\"tatgcgggcggccatgcgcctcccgttctgctacgaggtccatccggtttttcctgcacgctagtcagttcgcacccggaccttcacttagagctgtctc\"\n",
    "\n",
    "longest_common_substring(text1,text2)\n",
    "\n",
    "**Output:** ACATGGCCTCCCGTTCTGCACATATGGCCGACGTAGTATTAACCTCACTTAGGCCT\n",
    "\n",
    "### Implementation:\n",
    "\n",
    "Longest common subsequence uses tabulation method to compute the length of longest subsequence in the increasing order of indices from both the input string .\n",
    "\n",
    "In the above program calculate the longest common substring length using a 2D list of length m+1 and n+1.This is because while computing the table we take the initial row and column as null to avoid underflow. \n",
    "\n",
    "#### Algorithm:\n",
    "\n",
    "~~~\n",
    "if S1[i]==S2[j]\n",
    "    LCS[i][j]= LCS[i-1][j-1]+1\n",
    "else\n",
    "    LCS[i][j]=max(LCS[i-1][j],LCS[i][j-1])\n",
    "~~~\n",
    "\n",
    "After calculating the LCS value we backtrack the table bottom up to find the common subtrings and print them.\n",
    "\n",
    "**Time Complexity:**\n",
    "If m and n are the length of the two sequences respectively then time complexity will be O(mn).\n",
    "\n",
    "**Space Complexity:**\n",
    "If m and n are the size of the two sequences respectively then space required by this algorithm will be O(m+n).\n",
    "\n"
   ]
  }
 ],
 "metadata": {
  "kernelspec": {
   "display_name": "Python 3",
   "language": "python",
   "name": "python3"
  },
  "language_info": {
   "codemirror_mode": {
    "name": "ipython",
    "version": 3
   },
   "file_extension": ".py",
   "mimetype": "text/x-python",
   "name": "python",
   "nbconvert_exporter": "python",
   "pygments_lexer": "ipython3",
   "version": "3.9.7"
  }
 },
 "nbformat": 4,
 "nbformat_minor": 4
}
