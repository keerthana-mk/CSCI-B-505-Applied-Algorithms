{
 "cells": [
  {
   "cell_type": "markdown",
   "metadata": {},
   "source": [
    "# Assignment-5                                                                    \n",
    "                                                                             Partner Name:Prasad Hegde\n",
    " \n",
    "                                                                                Partner userid:phegde\n",
    "\n",
    "                               \"All the work herein is solely mine\"\n",
    "                               \n",
    "                               "
   ]
  },
  {
   "cell_type": "markdown",
   "metadata": {},
   "source": [
    "## Problem 1: Pattern-matching: The brute-force\n",
    "\n",
    "### Problem 1.1: The brute-force pattern-matching algorithm\n",
    "Describe a text D and a pattern P such that the brute-force pattern-matching algorithm runs in\n",
    "Ω(dp) time.The lengths of D and P are d and p, respectively."
   ]
  },
  {
   "cell_type": "markdown",
   "metadata": {},
   "source": [
    "The maximum number of comparisons in brute force occur when the pattern matches completely except the last character. Hence, at every alignment len(P) comparisons will be made. So we have to choose a pattern such that all but last character matches.\n",
    "\n",
    "Consider Text D='aaaaaaaaab' and pattern P=aaab' where d=len(D)=10, p=len(P)=4. Observe P in D, we have 3 matching characters ('aaa') in each d-p iterations. Hence, our brute-force algorithm do (d-p)*(p-1) comparisions. Acknowledge that p is never greater than d or p<sup>2</sup> == dp.\n",
    "\n",
    "Therefore, for above pattern and the text the brute-force pattern-matching algorithm runs in Ω(dp)"
   ]
  },
  {
   "cell_type": "markdown",
   "metadata": {},
   "source": [
    "### Problem 1.2: Python’s str class and pattern-matching\n",
    "In this part, you are asked to modify three pattern matching programs given to you (See appendix). Run your modified programs for varying-length patterns and show your results.\n",
    "The count method in Python’s str class takes a text D and a pattern P and returns the maximum number of non-overlapping occurrences of a P within D. As an example ‘cdcdcdcdc’.count(‘cdc’) returns 2.\n",
    "\n",
    "1. Modify the brute-force pattern-matching to return non-overlapping occurrences of a P within D.\n",
    "2. Similar to the previous question (Problem 1.2.1), do the same on the Boyer-Moore program.\n",
    "3. Similar to problem 1.2.1, modify the KMP program."
   ]
  },
  {
   "cell_type": "markdown",
   "metadata": {},
   "source": [
    "### Brute Force"
   ]
  },
  {
   "cell_type": "code",
   "execution_count": 68,
   "metadata": {},
   "outputs": [
    {
     "name": "stdout",
     "output_type": "stream",
     "text": [
      "no. of non overlapping cdc in cdcdcdcdc = 2\n",
      "no. of non overlapping cd in cdcdcdcdc = 4\n",
      "no. of non overlapping cdcd in cdcdcdcdc = 2\n",
      "no. of non overlapping dcd in cdcdcdcdc = 2\n",
      "no. of non overlapping aaba in aabaabaaba = 0\n"
     ]
    }
   ],
   "source": [
    "# Modify the brute-force pattern-matching to return non-overlapping occurrences of a P within D. \n",
    "    # Brute force\n",
    "def modified_find_brute(T, P):\n",
    "    '''\n",
    "    a count - keep count of non-overlapping pattern P in text T\n",
    "    j pointer - where to start matching pattern next\n",
    "    '''  \n",
    "    n, m, count,j= len(T), len(P), 0,0\n",
    "     # every starting position\n",
    "    for i in range(n-m+1):\n",
    "        k = 0\n",
    "        # when text match the pattern, skip to the end of pattern\n",
    "        if(j!=i):\n",
    "            continue\n",
    "    # conduct O(k) comparisons\n",
    "        while k < m and T[i+k] == P[k]:\n",
    "            k += 1\n",
    "        if k == m:\n",
    "            count+=1\n",
    "            j=i+k\n",
    "        else:\n",
    "            j=i+1\n",
    "    return count\n",
    "\n",
    "\n",
    "print('no. of non overlapping cdc '+'in'+' cdcdcdcdc =',modified_find_brute('cdcdcdcdc','cdc'))\n",
    "print('no. of non overlapping cd '+'in'+' cdcdcdcdc =',modified_find_brute('cdcdcdcdc','cd'))\n",
    "print('no. of non overlapping cdcd '+'in'+' cdcdcdcdc =',modified_find_brute('cdcdcdcdc','cdcd'))\n",
    "print('no. of non overlapping dcd '+'in'+' cdcdcdcdc =',modified_find_brute('cdcdcdcdc','dcd'))\n",
    "print('no. of non overlapping aaba '+'in'+' aabaabaaba =',modified_find_brute('ABCABFC','ACC'))"
   ]
  },
  {
   "cell_type": "markdown",
   "metadata": {},
   "source": [
    "### Boyer Moore\n",
    "Initialise, a **count** variable tokeep count of non-overlapping pattern P in text T. When the pattern is matched we increase the count by one and shift i such that we jump the matched text and continue matching next."
   ]
  },
  {
   "cell_type": "code",
   "execution_count": 69,
   "metadata": {},
   "outputs": [
    {
     "name": "stdout",
     "output_type": "stream",
     "text": [
      "no. of non overlapping cdc in cdcdcdcdc = 2\n",
      "no. of non overlapping cd in cdcdcdcdc = 4\n",
      "no. of non overlapping cdcd in cdcdcdcdc = 2\n",
      "no. of non overlapping dcd in cdcdcdcdc = 2\n",
      "no. of non overlapping aaba in aabaabaaba = 0\n"
     ]
    }
   ],
   "source": [
    "# Similar to the previous question (Problem 1.2.1), do the same on the Boyer-Moore program.\n",
    "# Boyer - Moore\n",
    "def modified_find_boyer_moore(T, P):\n",
    "    n, m = len(T), len(P)\n",
    "    count =  0\n",
    "    if m == 0:\n",
    "        return 0\n",
    "    last = {}\n",
    "    for k in range(m):\n",
    "        last[P[k]] = k\n",
    "    i = m-1\n",
    "    k = m-1\n",
    "    while i < n:\n",
    "        # If match , decrease i,k\n",
    "        if T[i] == P[k]:\n",
    "            if k == 0:\n",
    "                count+=1\n",
    "                i=i+2*m-1\n",
    "                k=m-1\n",
    "            else:\n",
    "                i -= 1\n",
    "                k -= 1\n",
    "        else:\n",
    "            j = last.get(T[i], -1)\n",
    "            i += m - min(k, j+1)\n",
    "            k = m-1\n",
    "    return count\n",
    "print('no. of non overlapping cdc '+'in'+' cdcdcdcdc =',modified_find_boyer_moore('cdcdcdcdc','cdc'))\n",
    "print('no. of non overlapping cd '+'in'+' cdcdcdcdc =',modified_find_boyer_moore('cdcdcdcdc','cd'))\n",
    "print('no. of non overlapping cdcd '+'in'+' cdcdcdcdc =',modified_find_boyer_moore('cdcdcdcdc','cdcd'))\n",
    "print('no. of non overlapping dcd '+'in'+' cdcdcdcdc =',modified_find_boyer_moore('cdcdcdcdc','dcd'))\n",
    "print('no. of non overlapping aaba '+'in'+' aabaabaaba =',modified_find_boyer_moore('ABCABFC','ACC'))"
   ]
  },
  {
   "cell_type": "markdown",
   "metadata": {},
   "source": [
    "### KMP Algorithm\n",
    "Initialize the **count** to zero. Increase the count whenever we find a pattern matching text, increase the pointer by one, and continue matching the pattern."
   ]
  },
  {
   "cell_type": "code",
   "execution_count": 70,
   "metadata": {},
   "outputs": [
    {
     "name": "stdout",
     "output_type": "stream",
     "text": [
      "no. of non overlapping cdc in cdcdcdcdc = 2\n",
      "no. of non overlapping cd in cdcdcdcdc = 4\n",
      "no. of non overlapping cdcd in cdcdcdcdc = 2\n",
      "no. of non overlapping dcd in cdcdcdcdc = 2\n",
      "no. of non overlapping aaba in aabaabaaba = 0\n"
     ]
    }
   ],
   "source": [
    "# Similar to problem 1.2.1, modify the KMP program.\n",
    "# KMP failure function\n",
    "def compute_kmp_fail(P):\n",
    "    m = len(P)\n",
    "    fail = [0] * m\n",
    "    j = 1\n",
    "    k = 0\n",
    "    while j < m:\n",
    "        if P[j] == P[k]:\n",
    "            fail[j] = k+1\n",
    "            j += 1\n",
    "            k += 1\n",
    "        elif k > 0:\n",
    "            k = fail[k-1]\n",
    "        else:\n",
    "            j += 1\n",
    "    return fail\n",
    "\n",
    "# KMP\n",
    "def modified_find_kmp(T, P):\n",
    "    n, m = len(T), len(P)\n",
    "    count = 0\n",
    "    if m == 0:\n",
    "        return 0\n",
    "    fail = compute_kmp_fail(P)\n",
    "    # print(fail)\n",
    "    j = 0\n",
    "    k = 0\n",
    "    while j < n:\n",
    "        if T[j] == P[k]:\n",
    "            if k == m-1:\n",
    "                count+=1\n",
    "                j+=1\n",
    "                k=0\n",
    "            else:\n",
    "                j += 1\n",
    "                k += 1\n",
    "        elif k > 0:\n",
    "            k = fail[k-1]\n",
    "        else:\n",
    "            j += 1\n",
    "    return count\n",
    "\n",
    "print('no. of non overlapping cdc '+'in'+' cdcdcdcdc =',modified_find_kmp('cdcdcdcdc','cdc'))\n",
    "print('no. of non overlapping cd '+'in'+' cdcdcdcdc =',modified_find_kmp('cdcdcdcdc','cd'))\n",
    "print('no. of non overlapping cdcd '+'in'+' cdcdcdcdc =',modified_find_kmp('cdcdcdcdc','cdcd'))\n",
    "print('no. of non overlapping dcd '+'in'+' cdcdcdcdc =',modified_find_kmp('cdcdcdcdc','dcd'))\n",
    "print('no. of non overlapping aaba '+'in'+' aabaabaaba =',modified_find_kmp('ABCABFC','ACC'))"
   ]
  },
  {
   "cell_type": "markdown",
   "metadata": {},
   "source": [
    "## Problem 2: Experimental Analysis of Pattern-Matching Algorithms\n",
    "Perform an experimental analysis of pattern matching algorithms in terms of:\n",
    "1. Number of character comparison: Perform an experimental analysis of the efficiency of\n",
    "the brute-force, the KMP and Boyer-Moore pattern matching algorithms for varying-length\n",
    "patterns.\n",
    "2. Relative speed comparison: Perform an experimental comparison of the brute-force, KMP,\n",
    "and Boyer-Moore pattern-matching algorithms. Run each algorithm against large text doc-\n",
    "uments using varying-length patterns and report the relative running times."
   ]
  },
  {
   "cell_type": "code",
   "execution_count": 71,
   "metadata": {},
   "outputs": [],
   "source": [
    "import random\n",
    "import time\n",
    "import matplotlib.pyplot as plt"
   ]
  },
  {
   "cell_type": "code",
   "execution_count": 72,
   "metadata": {},
   "outputs": [],
   "source": [
    "import random\n",
    "\n",
    "# Brute force\n",
    "def v1_find_brute(T, P):\n",
    "    n, m = len(T), len(P)\n",
    "    # every starting position\n",
    "    comparisons = 0\n",
    "    i = 0\n",
    "    while i < (n-m+1):\n",
    "        k=0\n",
    "        while k < m:\n",
    "            comparisons += 1\n",
    "            if T[i + k] != P[k]:\n",
    "                break\n",
    "            k = k + 1\n",
    "        if k==m:\n",
    "            break\n",
    "        else:\n",
    "            i+=1\n",
    "    return comparisons\n",
    "\n",
    "\n",
    "# Boyer - Moore\n",
    "def v1_find_boyer_moore (T , P ) :\n",
    "    n , m = len ( T ) , len ( P )\n",
    "    if m == 0:\n",
    "        return 0\n",
    "    last = {}\n",
    "    for k in range ( m ) :\n",
    "        last [ P [ k ]] = k\n",
    "    i = m -1\n",
    "    k = m -1\n",
    "    comparisons = 0\n",
    "    while i < n :\n",
    "        comparisons += 1\n",
    "        if T [i] == P[k]:\n",
    "            if k == 0:\n",
    "                return comparisons\n",
    "                i += 1\n",
    "            else:\n",
    "                i -= 1\n",
    "                k -= 1\n",
    "        # Not match , reset the positions\n",
    "        else:\n",
    "            j = last.get (T[i],-1)\n",
    "            i += m - min (k,j+1)\n",
    "            k = m - 1\n",
    "    return comparisons\n",
    "\n",
    "\n",
    "# KMP failure function\n",
    "def v1_compute_kmp_fail ( P ) :\n",
    "    m = len ( P )\n",
    "    fail = [0] * m\n",
    "    j = 1\n",
    "    k = 0\n",
    "    while j < m :\n",
    "        if P [ j ] == P [ k ]:\n",
    "            fail [ j ] = k +1\n",
    "            j += 1\n",
    "            k += 1\n",
    "        elif k > 0:\n",
    "            k = fail [k -1]\n",
    "        else :\n",
    "            j += 1\n",
    "    return fail\n",
    "\n",
    "# KMP\n",
    "def v1_find_kmp (T , P ) :\n",
    "    n , m = len ( T ) , len ( P )\n",
    "    if m == 0:\n",
    "        return 0\n",
    "    fail = v1_compute_kmp_fail ( P )\n",
    "    # print ( fail )\n",
    "    j = 0\n",
    "    k = 0\n",
    "    comparisons=0\n",
    "    while j < n :\n",
    "        comparisons += 1\n",
    "        if T[j] == P[k]:\n",
    "            j += 1\n",
    "            k += 1\n",
    "            if k == m :\n",
    "                break\n",
    "        elif k > 0:\n",
    "            k = fail [k -1]\n",
    "        else :\n",
    "            j += 1\n",
    "    return comparisons"
   ]
  },
  {
   "cell_type": "code",
   "execution_count": 73,
   "metadata": {},
   "outputs": [
    {
     "data": {
      "image/png": "[encoded data removed]",
      "text/plain": [
       "<Figure size 432x288 with 1 Axes>"
      ]
     },
     "metadata": {
      "needs_background": "light"
     },
     "output_type": "display_data"
    },
    {
     "data": {
      "image/png": "[encoded data removed]",
      "text/plain": [
       "<Figure size 432x288 with 1 Axes>"
      ]
     },
     "metadata": {
      "needs_background": "light"
     },
     "output_type": "display_data"
    },
    {
     "data": {
      "text/plain": [
       "<Figure size 432x288 with 0 Axes>"
      ]
     },
     "metadata": {},
     "output_type": "display_data"
    }
   ],
   "source": [
    "import random\n",
    "import time\n",
    "import string\n",
    "import matplotlib.pyplot as plt\n",
    "\n",
    "random.seed(5)\n",
    "\n",
    "lower_upper_alphabet = string.ascii_lowercase\n",
    "input_char_list = [random.choice(lower_upper_alphabet) for i in range(10000)]\n",
    "text = ''.join([str(elem) for elem in input_char_list])\n",
    "    \n",
    "def generate_pattern_sizes(Source_text):\n",
    "    m=len(Source_text)\n",
    "    percentages = [0.05, 0.1, 0.15, 0.2, 0.25, 0.3, 0.35, 0.4,0.50,0.6]\n",
    "    n=[int(x*len(Source_text)) for x in percentages]\n",
    "    pattern_substring=[]\n",
    "    for i in n:\n",
    "        lower_upper_alphabet = string.ascii_lowercase\n",
    "        input_char_list = [random.choice(lower_upper_alphabet) for i in range(i)]\n",
    "        text = ''.join([str(elem) for elem in input_char_list])\n",
    "        pattern_substring.append(text)\n",
    "    return pattern_substring\n",
    "\n",
    "\n",
    "def run_experiment_input1(text_string):\n",
    "    final_time_brute=[]\n",
    "    final_time_boyer=[]\n",
    "    final_time_KMP=[]\n",
    "    brute_k_comparisons=[]\n",
    "    BM_k_comparison=[]\n",
    "    KMP_k_comparison=[]\n",
    "    pattern_substring=generate_pattern_sizes(text_string)\n",
    "    for pattern in pattern_substring:\n",
    "        pattern=pattern\n",
    "        start_time=time.perf_counter()\n",
    "        k1=v1_find_brute(text_string,pattern)\n",
    "        final_time_brute.append(time.perf_counter()-start_time)\n",
    "        brute_k_comparisons.append(k1)\n",
    "        start_time1=time.perf_counter()\n",
    "        k2=v1_find_boyer_moore(text_string,pattern)\n",
    "        final_time_boyer.append(time.perf_counter()-start_time1)\n",
    "        BM_k_comparison.append(k2)\n",
    "        start_time2=time.perf_counter()\n",
    "        k3=v1_find_kmp(text_string,pattern)\n",
    "        final_time_KMP.append(time.perf_counter()-start_time2)\n",
    "        KMP_k_comparison.append(k3)\n",
    "    lengths = [len(x) for x in pattern_substring]\n",
    "    plt.xlabel(\"Size of patterns - Input1\",)\n",
    "    plt.ylabel(\"Comparisons\")\n",
    "    plt.plot(lengths ,brute_k_comparisons, label = \"Brute Force\")\n",
    "    plt.plot(lengths ,BM_k_comparison, label = \"Boyer Moore\")\n",
    "    plt.plot(lengths ,KMP_k_comparison, label = \"KMP \")\n",
    "    plt.legend()\n",
    "    plt.show()\n",
    "    plt.clf()\n",
    "    plt.xlabel(\"Size of patterns- Input1\")\n",
    "    plt.ylabel(\"Execution time\")\n",
    "    plt.plot(lengths ,final_time_brute, label = \"Brute Force\")\n",
    "    plt.plot(lengths ,final_time_boyer, label = \"Boyer Moore\")\n",
    "    plt.plot(lengths ,final_time_KMP, label = \"KMP \")\n",
    "    plt.legend()\n",
    "    plt.show()\n",
    "    plt.clf()\n",
    "    \n",
    "\n",
    "run_experiment_input1(text)"
   ]
  },
  {
   "cell_type": "markdown",
   "metadata": {},
   "source": [
    "### Analysis of Character comparisons  and Execution times:\n",
    "\n",
    "We need to calculate the number of comparisons made for checking if a pattern is matching or not matching.The above programs are modified to inculcate the counting of comparisons made. As told we need to compare three patttern matching algorithms.\n",
    "* Brute Force\n",
    "* Boyer-Moore Algorithm\n",
    "* KMP algorithm\n",
    "\n",
    "Each of these algorithms work the best for different types of text inputs.For example KMP works best when the pattern has repeating sub-patterns(For example: DNA sequences).\n",
    "\n",
    "We have considered different types of inputs to show how the character comparisons happen.We are using the below code to generate src_text from a given set of alphabet and range of 100000.\n",
    "~~~\n",
    "lower_upper_alphabet = string.ascii_lowercase\n",
    "input_char_list = [random.choice(lower_upper_alphabet) for i in range(10000)]\n",
    "text = ''.join([str(elem) for elem in input_char_list])\n",
    "~~~\n",
    "The text is passed as input string to all three algorithms to get the comparisons.\n",
    "\n",
    "In order to generate patterns of different length a *generate_pattern_sizes()* function is used which takes src_text as input and generates substring as patterns of varying length from a random index. The length of pattern are determined as percentages given.\n",
    "~~~\n",
    " percentages = [0.05, 0.1, 0.15, 0.2, 0.25, 0.3, 0.35, 0.4]\n",
    "~~~\n",
    "The *run_experiment_input1()* takes the src_text and generate a lists of k_comparisions and execution time for all the three algorithms above. We have plotted 2 graphs:\n",
    "1. Graph of comparisons made against Size of patterns.\n",
    "2. Graph of execution time against Size of patterns.\n",
    "\n",
    "### Graph Analysis:\n",
    "\n",
    "**Graph1:** Graph of comparisons made against Size of patterns.\n",
    "\n",
    "We can observe that Boyer moore performs better compared to brute-force or KMP for the given above set of input because in BoyerMoore algorithm the alphabet input is big(range of alphabet) and given there a mismatch between the last character of pattern and character of src_text corresponding to it.Scanning backwards with Boyer Moore Algorithm is sometimes faster because if we spot a character that isn't in the pattern, then we can skip many spaces forward. Therefore for a searching a document of english text of big sizes Boyer Moore performs the best.In the best case scenario, we may only need to compare the last character every time, and skip forward the full length of the word. \n",
    "\n",
    "We can observe that brute force comparisons are usually large in number but it has a decreasing trend because the length of the src_text to be compared decreases by the length of pattern p when the size of pattern increases.We can observe a best case of brute force when there is a mismatch in the first character of pattern only.Then it does length of src_text number of comparisons.\n",
    "\n",
    "KMP algorithm performs the best for text which has a limited alphabet set like Protiens sequences, DNA sequences etc.KMP algorithm performs the best when there are overlapping character or alphabet present.\n",
    "\n",
    "**Graph2:** Graph of execution time against Size of patterns.\n",
    "\n",
    "From the above graphs we can corelate that execution times are proportional to the comparisons made.Hence the execution time of Boyer Moore is less compared to Brute force and KMP.This is because comparison is the main task that is time consuming action that happens in all the three algorithms. However there might be little overhead added from other functions within the algorithm but it is small comparably.\n"
   ]
  },
  {
   "cell_type": "markdown",
   "metadata": {},
   "source": [
    "## Problem 3: Matrix-chain Multiplication\n",
    "The matrix-chain multiplication problem: Given a chain of < D 1 , D 2 , . . . , D n > of n matrices fully\n",
    "parenthesize the product < D 1 ·D 2 · · · D n > in a way so that the number of scalar multiplications\n",
    "is minimized. Each D i has a p i−1 × p i dimension and i = 1, 2, . . . , n."
   ]
  },
  {
   "cell_type": "markdown",
   "metadata": {},
   "source": [
    "### 1. The Brute-Force:\n",
    "Implement a Python program to solve the matrix-chain multiplication problem by the brute force algorithm."
   ]
  },
  {
   "cell_type": "code",
   "execution_count": 74,
   "metadata": {},
   "outputs": [
    {
     "name": "stdout",
     "output_type": "stream",
     "text": [
      "The minimum number of scalar multiplications is  7875\n",
      "Solution:  (A1(A2A3))\n"
     ]
    }
   ],
   "source": [
    "\n",
    "def minScalarOperations(chain, i, j, s):\n",
    "    if i == j:\n",
    "        return 0\n",
    "    \n",
    "    min = float('inf')\n",
    "    k=i\n",
    "    # for all possible paranthesis placements\n",
    "    # return minimum number of scalar multiplication\n",
    "    while k<j:\n",
    "        count = minScalarOperations(chain, i, k, s) + minScalarOperations(chain, k + 1, j, s) + chain[i-1] * chain[k] * chain[j]\n",
    "\n",
    "        if count < min:\n",
    "            min = count\n",
    "            s[i][j] = k\n",
    "        k+=1\n",
    "    return min\n",
    "\n",
    "chain1 = [30,35,15,5]\n",
    "\n",
    "s = [['' for i in range(len(chain1))] for j in range(len(chain1))]\n",
    "print(\"The minimum number of scalar multiplications is \",\n",
    "\tminScalarOperations(chain1, 1, len(chain1)-1, s))\n",
    "print(\"Solution: \", print_optimal_parens(s, 1, len(chain1)-1))\n",
    "\n",
    "\n",
    "def print_optimal_parenthesis(s, i, j):\n",
    "    if i == j:\n",
    "        return 'A{}'.format(i)\n",
    "    else:\n",
    "        return \"({}{})\".format(print_optimal_parenthesis(s, i, s[i][j]), print_optimal_parens(s, s[i][j] + 1, j))\n"
   ]
  },
  {
   "cell_type": "markdown",
   "metadata": {},
   "source": [
    "### Brute Force Approach:\n",
    "\n",
    "In the brute force approach we calculate the minimum cost of multiplication recursively. It carries out a exhaustive search to determine the minimum value.\n",
    "\n",
    "The cost of multiplication mainly depend on 2 operations:\n",
    "1. cost of multiplying matrices if i==j and i ==0 and j==0\n",
    "2. cost of multiplying matrices between i and j and we take the minimum value of it.\n",
    "\n",
    "While placing the parenthesis it checks every position where it can place a parenthesis.\n",
    "\n",
    "Brute forces runs in exponential time complexity."
   ]
  },
  {
   "cell_type": "markdown",
   "metadata": {},
   "source": [
    "### 2. Bottom-up Dynamic Programming:\n",
    "Implement a Python program to solve the matrix-chain multiplication problem using bottom-up dynamic programming approach."
   ]
  },
  {
   "cell_type": "code",
   "execution_count": 75,
   "metadata": {},
   "outputs": [
    {
     "name": "stdout",
     "output_type": "stream",
     "text": [
      "The minimum number of scalar multiplications is  15125\n",
      "Solution:  ((A1(A2A3))((A4A5)A6))\n"
     ]
    }
   ],
   "source": [
    "def minScalarOperations(p, n):\n",
    "    costMatrix = [[0 for x in range(n)] for x in range(n)]\n",
    "    s = [['' for i in range(n)] for j in range(n)]\n",
    "    chainLen=2\n",
    "\n",
    "    while chainLen<n:\n",
    "        for i in range(1,n-chainLen+1):\n",
    "            j = i+chainLen-1\n",
    "            costMatrix[i][j] = float('inf')\n",
    "            for k in range(i, j):\n",
    "                # calculate cost\n",
    "                cost = costMatrix[i][k] + costMatrix[k+1][j] + p[i-1]*p[k]*p[j]\n",
    "                if cost<costMatrix[i][j]:\n",
    "                    costMatrix[i][j] = cost\n",
    "                    s[i][j] = k\n",
    "        chainLen+=1\n",
    "    return costMatrix[1][n-1], s\n",
    "  \n",
    "\n",
    "chain1 = [30,35,15,5,10,20,25]\n",
    "\n",
    "cost, s = minScalarOperations(chain1, len(chain1))\n",
    "print(\"The minimum number of scalar multiplications is \", cost)\n",
    "\n",
    "print(\"Solution: \", print_optimal_parenthesis(s, 1, len(chain1)-1))"
   ]
  },
  {
   "cell_type": "markdown",
   "metadata": {},
   "source": [
    "### Bottom Up Dynamic Programming Approach:\n",
    "In Bottom up approach we resolve the subproblems first and then pass this result to bigger problems.\n",
    "\n",
    "Here we calculate the cost for the sub problems with increasing lengths. For matrix of length 1 the cost is zero. So for lengths above 2 we calculate the cost and select the minimum cost among into the cost-matrix\n",
    "\n",
    "With the help of cost matrix we can determine the right placement of brackets.\n",
    "### Implementation:\n",
    "1. We calculate the cost required for multiplying different number of matrices and store the cost in 2D list-**costMatrix**\n",
    "2. Let's say we want to know minimum cost for ABCDE \n",
    "3. We calculate costs for A, AB, ABC.. so on for different chain length and store it in our cost matrix. And for each of this chain length we are interested in the minimum cost, which is achieved by calculating cost for different paranthesis placements, and chosing the minimum among them.\n",
    "4. We have calculated costs for different chain lengths (1,2,3...n). So the final cost we are interested in is of chain length n.\n",
    "\n",
    "Therefore, costMatrix[1][n-1], where n is the length of the chain will have the minumum cost that is required to perform complete multiplication.\n",
    "\n",
    "### Time Complexity:\n",
    "\n",
    "The time complexity might be cubic because there are 3 loops used to calculate the minimum cost. But it is much better than brute force which in exponentional time."
   ]
  },
  {
   "cell_type": "markdown",
   "metadata": {},
   "source": [
    "### 3. Dynamic Programming with Memoization [Extra Credit]: \n",
    "Implement a Python program to solve the matrix-chain multiplication problem using dynamic programming with\n",
    "memoization."
   ]
  },
  {
   "cell_type": "markdown",
   "metadata": {},
   "source": [
    "###  Dynamic Programming with Memoization  [Extra Credit]:\n",
    "\n",
    "Memoization is a top-down approach which uses recursion to calculate the minimum multiplication cost.\n",
    "\n",
    "It stores the precomputed results to avoid computation everytime for the same subproblem.\n",
    "\n",
    " When a recusive call is made, first we check whether the solution already exists in the memo if yes,we return the precomputed solution.If the solution does not exist in the memo, then we compute the result, memoize it and then return the computed result.\n",
    "\n",
    "### Implementation:\n",
    "When we calculate differenty paranthesised product cost. We save the cost. \n",
    "1. Create a 2D list dp of size 100*100 and initialise with -1\n",
    "2. Recursively paranthise and calculate the cost in multiplication, if the particular cost has not been calculated already, store this cost in relevent cell of the 2D list, else refer to the stored cost\n",
    "3. Update dp[i][j] with the minimum cost of stored cost and recursively calculated cost \n",
    "\n",
    "dp[1][n-1] will give us the minimum cost that is required to calculate complete product of matrix chain.\n"
   ]
  },
  {
   "cell_type": "code",
   "execution_count": 76,
   "metadata": {},
   "outputs": [
    {
     "name": "stdout",
     "output_type": "stream",
     "text": [
      "The minimum number of scalar multiplications is  15125\n",
      "Solution:  ((A1(A2A3))((A4A5)A6))\n"
     ]
    }
   ],
   "source": [
    "dp = [[-1 for i in range(100)] for j in range(100)]\n",
    "\n",
    "def minOperationMemoized(p,i,j,s):\n",
    "\n",
    "    if(i == j):\n",
    "        return 0\n",
    "\n",
    "    if(dp[i][j] != -1):\n",
    "        return dp[i][j]\n",
    "\n",
    "    dp[i][j] = float('inf')\n",
    "    k=0\n",
    "    while k<j:\n",
    "        cost = minOperationMemoized(p, i, k,s) + minOperationMemoized(p, k + 1, j, s)+ p[i - 1] * p[k] * p[j]\n",
    "        if cost < dp[i][j]:\n",
    "            dp[i][j] = cost\n",
    "            s[i][j] = k\n",
    "        k+=1\n",
    "    return dp[i][j]\n",
    "\n",
    "chain1 = [30,35,15,5,10,20,25]\n",
    "\n",
    "s = [['' for i in range(len(chain1))] for j in range(len(chain1))]\n",
    "print(\"The minimum number of scalar multiplications is \",\n",
    "     minOperationMemoized(chain1, 1,len(chain1)-1, s))\n",
    "print(\"Solution: \", print_optimal_parenthesis(s, 1, len(chain1)-1))"
   ]
  },
  {
   "cell_type": "markdown",
   "metadata": {},
   "source": [
    "## Problem 4: Longest Common Sub-sequence (LCS) Problem\n",
    "Implement a Python program to solve LCS problem using dynamic programming. Run your program to find the best sequence alignment between DNA strings. Show your results.\n",
    "\n",
    "*Longest Common Sub-sequence (LCS) problem: Given two character strings over some alphabet, find a longest string that is a sub-sequence of given two strings.*"
   ]
  },
  {
   "cell_type": "code",
   "execution_count": 80,
   "metadata": {},
   "outputs": [],
   "source": [
    "def longest_common_substring(Text1, Text2):\n",
    "    lcs_matrix = [[\"\" for x in range(len(Text2))] for x in range(len(Text1))]\n",
    "    # iterate over character of text1\n",
    "    for i in range(len(Text1)):\n",
    "        # iterate over character of text2\n",
    "        for j in range(len(Text2)):\n",
    "#             if characters match\n",
    "            if Text1[i] == Text2[j]:\n",
    "#                 if at starting postion\n",
    "                if i == 0 or j == 0:\n",
    "                    lcs_matrix[i][j] = Text1[i]\n",
    "                else:\n",
    "                    # if value is grater than the left or top parent \n",
    "                    lcs_matrix[i][j] = lcs_matrix[i-1][j-1] + Text1[i]\n",
    "            else:\n",
    "#                 if value matches with the left or top parent take the maximum\n",
    "                lcs_matrix[i][j] = max(lcs_matrix[i-1][j], lcs_matrix[i][j-1] , key=len)\n",
    "    common_substring = lcs_matrix[-1][-1]\n",
    "    return common_substring.upper()"
   ]
  },
  {
   "cell_type": "code",
   "execution_count": 81,
   "metadata": {},
   "outputs": [
    {
     "data": {
      "text/plain": [
       "'ACATGGCCTCCCGTTCTGCACATATGGCCGACGTAGTATTAACCTCACTTAGGCCT'"
      ]
     },
     "execution_count": 81,
     "metadata": {},
     "output_type": "execute_result"
    }
   ],
   "source": [
    "text1=\"acaaatatggccgtcccaggacttcaataagaccaaaaacatatgagccgataaacgtacgtaatataaaacctcgaaacagggtatatggcacagtgga\"\n",
    "text2=\"tatgcgggcggccatgcgcctcccgttctgctacgaggtccatccggtttttcctgcacgctagtcagttcgcacccggaccttcacttagagctgtctc\"\n",
    "longest_common_substring(text1,text2)"
   ]
  },
  {
   "cell_type": "code",
   "execution_count": 82,
   "metadata": {},
   "outputs": [
    {
     "data": {
      "text/plain": [
       "'AGTC'"
      ]
     },
     "execution_count": 82,
     "metadata": {},
     "output_type": "execute_result"
    }
   ],
   "source": [
    "text3=\"agtc\"\n",
    "text4=\"agtc\"\n",
    "longest_common_substring(text3,text4)"
   ]
  },
  {
   "cell_type": "markdown",
   "metadata": {},
   "source": [
    "### Output:\n",
    "Given two DNA Sequence as input:\n",
    "text1=\"acaaatatggccgtcccaggacttcaataagaccaaaaacatatgagccgataaacgtacgtaatataaaacctcgaaacagggtatatggcacagtgga\"\n",
    "\n",
    "text2=\"tatgcgggcggccatgcgcctcccgttctgctacgaggtccatccggtttttcctgcacgctagtcagttcgcacccggaccttcacttagagctgtctc\"\n",
    "\n",
    "longest_common_substring(text1,text2)\n",
    "\n",
    "**Output:** ACATGGCCTCCCGTTCTGCACATATGGCCGACGTAGTATTAACCTCACTTAGGCCT\n",
    "\n",
    "### Implementation:\n",
    "\n",
    "Longest common subsequence uses tabulation method to compute the length of longest subsequence in the increasing order of indices from both the input string .\n",
    "\n",
    "In the above program calculate the longest common substring length using a 2D list of length m+1 and n+1.This is because while computing the table we take the initial row and column as null to avoid underflow. \n",
    "\n",
    "#### Algorithm:\n",
    "\n",
    "~~~\n",
    "if S1[i]==S2[j]\n",
    "    LCS[i][j]= LCS[i-1][j-1]+1\n",
    "else\n",
    "    LCS[i][j]=max(LCS[i-1][j],LCS[i][j-1])\n",
    "~~~\n",
    "\n",
    "After calculating the LCS value we backtrack the table bottom up to find the common subtrings and print them.\n",
    "\n",
    "**Time Complexity:**\n",
    "If m and n are the length of the two sequences respectively then time complexity will be O(mn).\n",
    "\n",
    "**Space Complexity:**\n",
    "If m and n are the size of the two sequences respectively then space required by this algorithm will be O(m+n).\n",
    "\n"
   ]
  }
 ],
 "metadata": {
  "kernelspec": {
   "display_name": "Python 3",
   "language": "python",
   "name": "python3"
  },
  "language_info": {
   "codemirror_mode": {
    "name": "ipython",
    "version": 3
   },
   "file_extension": ".py",
   "mimetype": "text/x-python",
   "name": "python",
   "nbconvert_exporter": "python",
   "pygments_lexer": "ipython3",
   "version": "3.9.7"
  }
 },
 "nbformat": 4,
 "nbformat_minor": 4
}
