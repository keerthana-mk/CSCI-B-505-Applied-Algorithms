{
 "cells": [
  {
   "cell_type": "markdown",
   "id": "e064fa04",
   "metadata": {},
   "source": [
    "# Assignment 6\n",
    "\n",
    "                                \"All the work herein is solely mine\"\n",
    "                                \n",
    "                                \n",
    "                                                                                                    \n",
    "                                                          \n",
    "                                                               Partner: Madhavan Kalkunte Ramachandra (madhkr)"
   ]
  },
  {
   "cell_type": "markdown",
   "id": "321b78b7",
   "metadata": {},
   "source": [
    "# Problem 1\n",
    "\n",
    "Implement expectation-maximization algorithm for Gaussian mixture models (see the EM algorithm below) in Python and call this program G<sup>k</sup> . As you present your code explain your protocol for\n",
    "1. initializing each Gaussian\n",
    "2. deciding ties\n",
    "3. stopping criteria"
   ]
  },
  {
   "cell_type": "markdown",
   "id": "a37892a7",
   "metadata": {},
   "source": [
    "# Solution"
   ]
  },
  {
   "cell_type": "code",
   "execution_count": null,
   "metadata": {},
   "outputs": [],
   "source": [
    "pip install sklearn matplotlib pandas numpy"
   ]
  },
  {
   "cell_type": "code",
   "execution_count": 5,
   "id": "6b73f23e",
   "metadata": {},
   "outputs": [
    {
     "name": "stdout",
     "output_type": "stream",
     "text": [
      "Ionosphere dataset:  {'error': 0.10541310541310542, 'iterations': 8, 'runtime': 1.5694753490388393}\n",
      "Ringnorm dataset:  {'error': 0.014054054054054054, 'iterations': 8, 'runtime': 16.648421663965564}\n"
     ]
    }
   ],
   "source": [
    "import random\n",
    "import sys\n",
    "import time\n",
    "\n",
    "import numpy as np\n",
    "import pandas as pd\n",
    "from scipy.stats import multivariate_normal\n",
    "from matplotlib import pyplot as plt\n",
    "\n",
    "random.seed(5)\n",
    "\n",
    "def read_ionosphere_text(dataset_name):\n",
    "    dataframe = pd.read_csv(dataset_name, header=None)\n",
    "    dataframe[len(dataframe.columns) - 1] = dataframe[len(dataframe.columns) - 1].apply(lambda x: 0 if x == 'b' else 1)\n",
    "    return dataframe.values\n",
    "\n",
    "\n",
    "def read_dataset(dataset_name):\n",
    "    return np.genfromtxt(dataset_name)\n",
    "\n",
    "\n",
    "def expectation_maximization(dataset_name, num_clusters):\n",
    "    if dataset_name == 'ionosphere.data':\n",
    "        data = read_ionosphere_text(dataset_name)\n",
    "    else:\n",
    "        data = read_dataset(dataset_name)\n",
    "    cols = len(data[0])\n",
    "    data_features = data[:, 0:cols - 1]\n",
    "    data_classes = data[:, cols - 1:]\n",
    "    num_features = len(data_features[0])\n",
    "\n",
    "    # split the data set into training and testing sets. We will do the training on train set.\n",
    "    x_train, y_train = data_features, data_classes\n",
    "\n",
    "    cluster_means = []\n",
    "    cluster_covariance = []\n",
    "    priors = []\n",
    "    n = len(x_train)\n",
    "\n",
    "    start_time = time.perf_counter()\n",
    "\n",
    "    for k in range(num_clusters):\n",
    "        mean = []\n",
    "        # random initialization of mean\n",
    "        random_x = x_train[random.randint(0, n) - 1]\n",
    "        for i in range(len(random_x)):\n",
    "            mean.append(random_x[i])\n",
    "\n",
    "        cluster_means.append(np.asarray(mean))\n",
    "\n",
    "        # initialize covariance with identity matrix\n",
    "        cluster_covariance.append(np.identity(num_features))\n",
    "\n",
    "        # initial prior probability with uniform probability\n",
    "        priors.append(1.0 / num_clusters)\n",
    "\n",
    "    # initialize weights with zero\n",
    "    w = np.zeros((num_clusters, n))\n",
    "    iterations = 0\n",
    "\n",
    "    # Repeat until convergence\n",
    "    while True:\n",
    "        # print(\"running iteration: \", iterations)\n",
    "        iterations += 1\n",
    "        # calculate the initial weights assigned to each feature. This loop calculates likelihood * prior\n",
    "        for k in range(num_clusters):\n",
    "            for j in range(n):\n",
    "                w[k][j] = multivariate_normal.pdf(x_train[j], mean=cluster_means[k], cov=cluster_covariance[k],\n",
    "                                                  allow_singular=True) * priors[k]\n",
    "        # calculates the denominators i.e P(datapoint) for each datapoint and updates the weight\n",
    "        calculated_sum = []\n",
    "        for j in range(n):\n",
    "            s = 0\n",
    "            for k in range(num_clusters):\n",
    "                s += w[k][j]\n",
    "            calculated_sum.append(s)\n",
    "            for k in range(num_clusters):\n",
    "                w[k][j] = w[k][j] / s\n",
    "        new_means = []\n",
    "        new_covariance = []\n",
    "        # for each cluster, recalculate the mean and covariance\n",
    "        for k in range(num_clusters):\n",
    "            new_mean = (1 / np.sum(w[k])) * np.matmul(w[k], x_train)\n",
    "            new_covar = np.zeros((num_features, num_features))\n",
    "            weight_sum = np.sum(w[k]).item()\n",
    "            if weight_sum == 0:\n",
    "                print(weight_sum)\n",
    "            for j in range(n):\n",
    "                feature_minus_mean = np.subtract(data_features[j], new_mean)[np.newaxis]\n",
    "                a = w[k][j]\n",
    "                sum_term = a * np.matmul(feature_minus_mean.T, feature_minus_mean)\n",
    "                new_covar = np.add(new_covar, sum_term)\n",
    "            new_covar = (1 / weight_sum) * new_covar\n",
    "            new_covar[np.diag_indices_from(new_covar)] += 0.00001\n",
    "            new_means.append(new_mean)\n",
    "            new_covariance.append(new_covar)\n",
    "            priors[k] = weight_sum / len(data_features)\n",
    "\n",
    "        # check if the difference between new mean calculated and existing mean if small enough to consider convergence.\n",
    "        diff = 0\n",
    "        for k in range(num_clusters):\n",
    "            diff += np.linalg.norm(np.subtract(cluster_means[k], new_means[k])) ** 2\n",
    "        # check for convergence\n",
    "        if diff <= 0.0001:\n",
    "            break\n",
    "\n",
    "        # update the mean and covariance\n",
    "        cluster_means = new_means\n",
    "        cluster_covariance = new_covariance\n",
    "\n",
    "    # calculate the mean of two classes of training set.\n",
    "    good_cluster, bad_cluster = [], []\n",
    "    for j in range(n):\n",
    "        if int(y_train[j].item()) == 0:\n",
    "            bad_cluster.append(x_train[j])\n",
    "        else:\n",
    "            good_cluster.append(x_train[j])\n",
    "    good_cluster_mean = np.mean(np.array(good_cluster), axis=0)\n",
    "    bad_cluster_mean = np.mean(np.array(bad_cluster), axis=0)\n",
    "\n",
    "    # decide which k is good cluster and which k is bad cluster in our clusters\n",
    "    # cluster_mapping = {0: 0, 1: 1}\n",
    "    cluster_mapping = {}\n",
    "\n",
    "    def f(x):\n",
    "        return x ** 2\n",
    "\n",
    "    vectorized_square = np.vectorize(f)\n",
    "    \n",
    "    # calculuate the euclidian distance between actual mean and calculated cluster means to determine which \n",
    "    # of our clusters corressponds to which of the actual clusters.\n",
    "    for k in range(num_clusters):\n",
    "        g_minus_k = np.subtract(cluster_means[k], good_cluster_mean)\n",
    "        g_minus_k = vectorized_square(g_minus_k)\n",
    "        g = np.sqrt(np.sum(g_minus_k).item())\n",
    "        b_minus_k = np.subtract(cluster_means[k], bad_cluster_mean)\n",
    "        b_minus_k = vectorized_square(b_minus_k)\n",
    "        b = np.sqrt(np.sum(b_minus_k).item())\n",
    "        if g < b:\n",
    "            cluster_mapping[k] = 1\n",
    "        else:\n",
    "            cluster_mapping[k] = 0\n",
    "            \n",
    "    # make hard assignments and calculate the error rate\n",
    "    errors = 0\n",
    "    for j in range(len(x_train)):\n",
    "        prob = -sys.maxsize\n",
    "        prob_sum = 0\n",
    "        for k in range(num_clusters):\n",
    "            prob_sum += w[k][j]\n",
    "            if w[k][j] > prob:\n",
    "                prob = w[k][j]\n",
    "                assigned_cluster = cluster_mapping[k]\n",
    "        actual_cluster = y_train[j].item()\n",
    "        if int(assigned_cluster) != int(actual_cluster):\n",
    "            errors += 1\n",
    "    end_time = time.perf_counter()\n",
    "\n",
    "    return {'error': errors / len(x_train), 'iterations': iterations, 'runtime': end_time - start_time}\n",
    "\n",
    "print(\"Ionosphere dataset: \", expectation_maximization('ionosphere.data', 2))\n",
    "print(\"Ringnorm dataset: \", expectation_maximization('Dataset.data', 2))\n"
   ]
  },
  {
   "cell_type": "markdown",
   "id": "c1d93f76",
   "metadata": {},
   "source": [
    "## Approach:\n",
    "\n",
    "### Expectation Maximization(EM):\n",
    "\n",
    "Expectation Maximization algorithm is a very useful method to find the maximum likelihood when the model depends on latent variables. \n",
    "\n",
    "### 1. Initializing Each Guassian:\n",
    "\n",
    "The step of <u>Initialising Gaussian</u> consists of **Mean Initialization**,**Covariance Initialization** and **Prior Initialization**.\n",
    "\n",
    "For the n datapoints in the dataset we choose a random number r in the range of 0 to n (n exclusive). The datapoint at that index represented by r is initialised as mean of the cluster. This is called **Mean Initialization**. \n",
    "> ~~~\n",
    "for k in range(num_clusters):\n",
    "        mean = []\n",
    "        # random initialization of mean\n",
    "        random_x = x_train[random.randint(0, n) - 1]\n",
    "        for i in range(len(random_x)):\n",
    "            mean.append(random_x[i])\n",
    "        cluster_means.append(np.asarray(mean))\n",
    "    \n",
    "In **Covariance Initilization** the default initialization of covariance matrix to identity matrix. \n",
    ">\n",
    "~~~\n",
    "        # initialize covariance with identity matrix\n",
    "        cluster_covariance.append(np.identity(num_features))\n",
    "~~~\n",
    "In **Prior Initialization** the prior probability assigned is uniform i.e 1/k for k clusters. This is assigned for each cluster.\n",
    "\n",
    ">\n",
    "~~~\n",
    "        # initial prior probability with uniform probability\n",
    "        priors.append(1.0 / num_clusters)\n",
    "~~~\n",
    "\n",
    "\n",
    "### 2. Deciding Ties:\n",
    "\n",
    "1. Tie may occur when all actual clusters are equidistant from the given cluster:\n",
    "\n",
    "We assign calculated cluster to nearest actual clusters by calculating the euclidean distance between the actual cluster mean and calculated cluster mean.This problem can be overcome by assigning the calculated cluster to the cluster which occurs first in order.\n",
    "\n",
    "2. Datapoints have same probability for each cluster:\n",
    "\n",
    "For example when x datapoint has probability say 0.6 assigned for both cluster 1 and cluster 2, there occurs a tie on which cluster to assign. This can also be resolved by assigning the datapoint to the cluster which occurs first in order.So in the above example x datapoint is assigned to cluster 1.\n",
    "\n",
    "\n",
    "### 3. Stopping Criteria:\n",
    "\n",
    "The algorithm stops when the cluster means have converged. \n",
    "\n",
    ">For cluster i, let mean be $\\mu_i$ then algorithm is converged when $\\Sigma^k \\mid \\mid \\mu_i^t - \\mu_i ^ {t-1} \\mid \\mid ^ 2 < 0.0001. $\n",
    "\n",
    "where $k$ is number of clusters and $t$ be the current iteration number. "
   ]
  },
  {
   "cell_type": "markdown",
   "id": "650d98f0",
   "metadata": {},
   "source": [
    "# Problem 3.2"
   ]
  },
  {
   "cell_type": "code",
   "execution_count": 3,
   "id": "2d4ac72f",
   "metadata": {},
   "outputs": [
    {
     "data": {
      "image/png": "[encoded data removed]",
      "text/plain": [
       "<Figure size 432x288 with 1 Axes>"
      ]
     },
     "metadata": {
      "needs_background": "light"
     },
     "output_type": "display_data"
    },
    {
     "data": {
      "image/png": "[encoded data removed]",
      "text/plain": [
       "<Figure size 432x288 with 1 Axes>"
      ]
     },
     "metadata": {
      "needs_background": "light"
     },
     "output_type": "display_data"
    },
    {
     "data": {
      "image/png": "[encoded data removed]",
      "text/plain": [
       "<Figure size 432x288 with 1 Axes>"
      ]
     },
     "metadata": {
      "needs_background": "light"
     },
     "output_type": "display_data"
    },
    {
     "data": {
      "text/plain": [
       "<Figure size 432x288 with 0 Axes>"
      ]
     },
     "metadata": {},
     "output_type": "display_data"
    }
   ],
   "source": [
    "def run_experiment_ionosphere():\n",
    "    number_clusters = [2, 3, 4, 5]\n",
    "    results = {}\n",
    "\n",
    "    for k in number_clusters:\n",
    "        runtimes = []\n",
    "        iterations = []\n",
    "        errors = []\n",
    "        for run in range(20):\n",
    "            cur_result = expectation_maximization('ionosphere.data', k)\n",
    "            runtimes.append(cur_result['runtime'])\n",
    "            iterations.append(cur_result['iterations'])\n",
    "            errors.append(cur_result['error'])\n",
    "        results[k] = {'runtime': runtimes, 'iterations': iterations, 'error': errors}\n",
    "\n",
    "    # Plotting whisker plot for error rate for different cluster numbers\n",
    "    plt.boxplot([ results[x]['error'] for x in number_clusters], vert=0)\n",
    "    plt.xlabel('error')\n",
    "    plt.ylabel('number of clusters')\n",
    "    plt.title('Error vs Number of Clusters')\n",
    "    plt.show()\n",
    "    plt.clf()\n",
    "        \n",
    "    # Plotting whisker plot for runtime for different cluster numbers\n",
    "    plt.boxplot([ results[x]['runtime'] for x in number_clusters], vert=0)\n",
    "    plt.xlabel('runtime(ms)')\n",
    "    plt.ylabel('number of clusters')\n",
    "    plt.title('Runtime vs Number of Clusters')\n",
    "    plt.show()\n",
    "    plt.clf()\n",
    "    \n",
    "    # Plotting whisker plot for iterations for different cluster numbers\n",
    "    plt.boxplot([ results[x]['iterations'] for x in number_clusters], vert=0)\n",
    "    plt.xlabel('iterations')\n",
    "    plt.ylabel('number of clusters')\n",
    "    plt.title('Iterations vs Number of Clusters')\n",
    "    plt.show()\n",
    "    plt.clf()\n",
    "\n",
    "run_experiment_ionosphere()"
   ]
  },
  {
   "cell_type": "markdown",
   "metadata": {},
   "source": [
    "\n",
    "\n"
   ]
  },
  {
   "cell_type": "code",
   "execution_count": null,
   "metadata": {},
   "outputs": [],
   "source": []
  },
  {
   "cell_type": "code",
   "execution_count": 4,
   "id": "d7d685c1",
   "metadata": {},
   "outputs": [
    {
     "data": {
      "image/png": "[encoded data removed]",
      "text/plain": [
       "<Figure size 432x288 with 1 Axes>"
      ]
     },
     "metadata": {
      "needs_background": "light"
     },
     "output_type": "display_data"
    },
    {
     "data": {
      "image/png": "[encoded data removed]",
      "text/plain": [
       "<Figure size 432x288 with 1 Axes>"
      ]
     },
     "metadata": {
      "needs_background": "light"
     },
     "output_type": "display_data"
    },
    {
     "data": {
      "image/png": "[encoded data removed]",
      "text/plain": [
       "<Figure size 432x288 with 1 Axes>"
      ]
     },
     "metadata": {
      "needs_background": "light"
     },
     "output_type": "display_data"
    },
    {
     "data": {
      "text/plain": [
       "<Figure size 432x288 with 0 Axes>"
      ]
     },
     "metadata": {},
     "output_type": "display_data"
    }
   ],
   "source": [
    "def run_experiment_ringnorm():\n",
    "    number_clusters = [2, 3, 4, 5]\n",
    "    results = {}\n",
    "\n",
    "    for k in number_clusters:\n",
    "        runtimes = []\n",
    "        iterations = []\n",
    "        errors = []\n",
    "        for run in range(20):\n",
    "            cur_result = expectation_maximization('Dataset.data', k)\n",
    "            runtimes.append(cur_result['runtime'])\n",
    "            iterations.append(cur_result['iterations'])\n",
    "            errors.append(cur_result['error'])\n",
    "        results[k] = {'runtime': runtimes, 'iterations': iterations, 'error': errors}\n",
    "\n",
    "    # Plotting whisker plot for error rate for different cluster numbers\n",
    "    plt.boxplot([ results[x]['error'] for x in number_clusters], vert=0)\n",
    "    plt.xlabel('error')\n",
    "    plt.ylabel('number of clusters')\n",
    "    plt.title('Error vs Number of Clusters')\n",
    "    plt.show()\n",
    "    plt.clf()\n",
    "        \n",
    "    # Plotting whisker plot for runtime for different cluster numbers\n",
    "    plt.boxplot([ results[x]['runtime'] for x in number_clusters], vert=0)\n",
    "    plt.xlabel('runtime(ms)')\n",
    "    plt.ylabel('Number of Clusters')\n",
    "    plt.title('Runtime vs Number of Clusters')\n",
    "    plt.show()\n",
    "    plt.clf()\n",
    "    \n",
    "    # Plotting whisker plot for iterations for different cluster numbers\n",
    "    plt.boxplot([ results[x]['iterations'] for x in number_clusters], vert=0)\n",
    "    plt.xlabel('iterations')\n",
    "    plt.ylabel('number of clusters')\n",
    "    plt.title('Iterations vs Number of Clusters')\n",
    "    plt.show()\n",
    "    plt.clf()\n",
    "    \n",
    "run_experiment_ringnorm()"
   ]
  },
  {
   "cell_type": "markdown",
   "metadata": {},
   "source": [
    "### Graph Analysis:\n",
    "\n",
    "> **NOTE: The number of clusters are zero index based so kindly consider the values of y-axis to be from 2,3,4..**\n",
    "\n",
    "**Average error rates:** *Graph of Number of clusters vs Error rate*\n",
    "\n",
    "1) Ringnorm dataset: We can observe error rate of approximately ~1.4%.\n",
    "\n",
    "2) Ionosphere: We can observe error rate of approximately ~23%.\n",
    "\n",
    "**Average iterations (for k=2):** *Graph of Number of clusters vs Average Iterations*\n",
    "\n",
    "1) Ringnorm: When clusters considered is 2 we can observe the number of average iterations to be approximately ~10. From the graph we can deduct the values for other number of clusters by looking at the yellow line which us mean value in the box plots.\n",
    "\n",
    "2) Ionosphere:When clusters considered is 2 we can observe the number of average iterations to be approximately ~8.\n",
    "\n",
    "**Average run time (for k=2):** *Graph of Number of clusters vs Average Runtime*\n",
    "\n",
    "1) Ringnorm: When clusters considered is 2 we can observe the average runtime to be approximately ~19 ms.\n",
    "\n",
    "2) Ionosphere: When clusters considered is 2 we can observe the average runtime to be approximately ~2 ms.\n",
    "\n",
    "### Trends:\n",
    "\n",
    "1) Error rate for both datasets does not change much with increase in number of virtual clusters. This is because we map the virtual clusters to physical cluster before making hard assignments to data points.\n",
    "\n",
    "2) Increase in number of clusters result in increase in iterations to converge and runtime as well. This is because there will be more terms (mean differences) that contribute to the difference and hence it will take more time to converge."
   ]
  },
  {
   "cell_type": "markdown",
   "id": "ea1714b4",
   "metadata": {},
   "source": [
    "# Problem 3.1\n",
    "\n",
    "Given a text D and a pattern P, describe an Ω(d+p) time method for finding the longest prefix of P that is a substring of D. The lengths of D and P are d and p, respectively."
   ]
  },
  {
   "cell_type": "markdown",
   "id": "04e3d8ea",
   "metadata": {},
   "source": [
    "## Solution:\n",
    "\n",
    "Using the Trie data structure we can solve the longest prefix of pattern P in a text D in Ω(d+p).\n",
    "\n",
    "### Algorithm:\n",
    "\n",
    "* *Input: Text D, Pattern P*\n",
    "* *Output: Longest Prefix String*\n",
    "\n",
    "**LongestPrefix(D, P):**\n",
    "```\n",
    "1.  construct a TRIE for given text D\n",
    "2.  let node = root of TRIE representation of text D\n",
    "3.  longest_prefix = ''\n",
    "4.  for each character ch in P :\n",
    "5.      longest_prefix = node.value\n",
    "6.      if node.reference[ch] != NULL:\n",
    "7.         node = node.reference[ch]\n",
    "8.      else:\n",
    "9.         break - no further match for pattern exists in text\n",
    "10. return longest_prefix\n",
    "```\n",
    "\n",
    "## Run time analysis\n",
    "\n",
    "A Trie can be implemented in Ω(n * m) where n is the number of words in the text and m is the average length of a word in D. In other words n * m = d (total length of text / total number of characters in D). \n",
    "> **Hence creation of Trie can be done in Ω(d)**\n",
    "\n",
    "**Further the for loop in lines 4 through 9 runs in linear time of length of Pattern p. i.e Ω(p)**\n",
    "\n",
    "> **Hence the overall complexity of the algorithm = Ω(d) + Ω(p) = Ω(d+p)**\n",
    "\n"
   ]
  },
  {
   "cell_type": "markdown",
   "id": "f0b672ba",
   "metadata": {},
   "source": [
    "# Problem 3.2\n",
    "\n",
    "X, Y, and Z are three arrays and each has m elements. For an arbitrary integer t, describe O(m<sup>2</sup> logm)-time algorithm to determine if there exist numbers, x in X, y in Y, and z in Z, such that t = x+y+z.\n"
   ]
  },
  {
   "cell_type": "markdown",
   "id": "fd499bff",
   "metadata": {},
   "source": [
    "## Solution:\n",
    "\n",
    "\n",
    "### Algorithm:\n",
    "\n",
    "**ArbitarySum(X, Y, Z, t):**\n",
    "```\n",
    "1. Sort(Z)\n",
    "2. for x in X:\n",
    "3.   for y in Y:\n",
    "4.      z_wanted = t - x - y\n",
    "5.      if BinarySearch(Z, z_wanted) == True:\n",
    "6.         return x, y, z_wanted\n",
    "7. return -1 (not exists)\n",
    "```\n",
    "To get a O(m<sup>2</sup>logm) time complexity, we need to do the following:\n",
    "* Lets assume each array X,Y,Z is of length m\n",
    "* We can iterate over any of the two arrays (For ex:X and Y) out of three(X,Y,Z) given above. We can find the z value by subtracting x value from X and y value from Y from t(total value). Since there would be 2 for loops this operation runs in O(m<sup>2</sup>) time.\n",
    "* We search the z value in Z array using **Binary Search** which runs in logarithmic time. The array must be sorted to apply Binary search so we sort Z.\n",
    "\n",
    "### Runtime analysis:\n",
    "\n",
    "\n",
    "1. Sorting of Z takes O(mlogm) time\n",
    "2. Nested for loops in line 2 and 3 takes O(m<sup>2</sup>) time.\n",
    "3. Body of nested for loop: Binary search takes O(logm) time\n",
    "4. Therefore lines 2 through 6 takes m<sup>2</sup>logm time\n",
    "\n",
    "\n",
    "> **Hence overall worst case time complexity is O(mlogm + m<sup>2</sup>logm) = O(m<sup>2</sup>logm)** "
   ]
  },
  {
   "cell_type": "markdown",
   "id": "b73ac8f8",
   "metadata": {},
   "source": [
    "# Problem 3.3\n",
    "\n",
    "Describe an efficient algorithm for deleting a string from a compressed trie and analyze its running time."
   ]
  },
  {
   "cell_type": "markdown",
   "id": "642eb494",
   "metadata": {},
   "source": [
    "## Solution:\n",
    "\n",
    "### Approach:\n",
    "\n",
    "To delete a string from compressed trie we do the following:\n",
    "We consider a **NODE** datastructure to represent a trie node. We take the input of the algorithm to be a node, key to delete and depth of key found. We first check if the node is null, if yes we return null.\n",
    "\n",
    "If the node is not null,we check if the key is complete word in trie i.e if it is a leaf node.If it is a leaf node we delete that node from the trie.\n",
    "\n",
    "If the node is not a leaf node, then the node representing the word is a prefix to other words: mark the node with isWord to False, indicating  that the word no longer exists in the trie.\n",
    "\n",
    "We check if the node is Empty using ***isEmpty()*** function which tells whether a node has children or not.\n",
    "\n",
    "We denote compressed trie using Node data structure which consists of \n",
    "\n",
    "1. **value**:represents the value of the node.\n",
    "2. **child**:references to children nodes\n",
    "3. **isWord**: boolean flag which denotes whether a node represents the given word\n",
    "```\n",
    "class Node:\n",
    "        value : String\n",
    "        children : Node[]\n",
    "        isWord : boolean\n",
    "```    \n",
    "### Algorithm: Deleting a key in Compressed trie\n",
    "\n",
    "**DeleteKey(node, key, depth)**\n",
    "```\n",
    "if node == null:\n",
    "    return null\n",
    "    \n",
    "label = node.value\n",
    "start_index = depth\n",
    "end_index = depth + label.length\n",
    "\n",
    "// label is longer than remaining part of key to be matched. Hence there is no match for key.\n",
    "if end_index > key.length\n",
    "    return node \n",
    "\n",
    "// if part of key does not match with label, then key does not exist in TRIE, just return node\n",
    "if key[start_index:end_index] != label\n",
    "    return node\n",
    "\n",
    "// check if key is completely matched.\n",
    "if end_index == key.length and node.isWord\n",
    "    // we have found the word, mark the node as not a word.\n",
    "    node.isWord = False\n",
    "\n",
    "    // remove the node if it is empty\n",
    "    if node is empty\n",
    "        node = null\n",
    "\n",
    "    return node\n",
    "\n",
    "// if we have not completely matched, we continue traversal from end_index recursively\n",
    "\n",
    "node[end_index] = DeleteKey(node[end_index], key, end_index)\n",
    "\n",
    "// remove the node if it is empty and does not represent a word\n",
    "if node is empty and node.isWord = False\n",
    "    node = null\n",
    "    \n",
    "return node\n",
    "\n",
    "```\n",
    "\n",
    "_A node is empty if all the children nodes are null._\n",
    "\n",
    "**isEmpty(node)**\n",
    "```\n",
    "for each child in node.children:\n",
    "    if node.children != null\n",
    "        return False\n",
    "return True\n",
    "```\n",
    "### Runtime Analysis:\n",
    "\n",
    "The worst case time complexity for deletion of a key/ word from a compressed trie is **O(n) where n is the length of the key/ word to be deleted.**\n",
    "\n",
    "It is O(n) because in the worst case the path to a word in a compressed trie will be equal to number of characters in the word.This will happen when every character of the word has atleast 2 children.\n"
   ]
  },
  {
   "cell_type": "markdown",
   "metadata": {},
   "source": [
    "### References:\n",
    "\n",
    "1. http://theoryofprogramming.com/2016/11/15/compressed-trie-tree/\n",
    "2. https://www.geeksforgeeks.org/trie-insert-and-search/\n",
    "3. https://towardsdatascience.com/implement-expectation-maximization-em-algorithm-in-python-from-scratch-f1278d1b9137"
   ]
  }
 ],
 "metadata": {
  "kernelspec": {
   "display_name": "Python 3",
   "language": "python",
   "name": "python3"
  },
  "language_info": {
   "codemirror_mode": {
    "name": "ipython",
    "version": 3
   },
   "file_extension": ".py",
   "mimetype": "text/x-python",
   "name": "python",
   "nbconvert_exporter": "python",
   "pygments_lexer": "ipython3",
   "version": "3.10.0"
  }
 },
 "nbformat": 4,
 "nbformat_minor": 5
}
